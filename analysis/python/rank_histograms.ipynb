{
 "cells": [
  {
   "cell_type": "code",
   "execution_count": 8,
   "metadata": {},
   "outputs": [],
   "source": [
    "import sys\n",
    "import pandas as pd\n",
    "import os\n",
    "import numpy as np\n",
    "from scipy import stats\n",
    "import re\n",
    "import csv\n",
    "import tabulate\n",
    "import math as m\n",
    "import warnings\n",
    "warnings.filterwarnings('ignore')\n",
    "warnings.simplefilter('ignore')\n",
    "import scipy.io\n",
    "\n",
    "path_data = '/home/juank/repos/corregistro/Analysis_dac/data/input/'\n",
    "path2save = '/home/juank/Desktop/EJN2022/python/'\n",
    "\n",
    "# plot\n",
    "import matplotlib.pyplot as plt\n",
    "import seaborn as sns"
   ]
  },
  {
   "cell_type": "markdown",
   "metadata": {},
   "source": [
    "### Some plots on the csvs"
   ]
  },
  {
   "cell_type": "code",
   "execution_count": 9,
   "metadata": {},
   "outputs": [],
   "source": [
    "df = pd.read_csv(path2save+'EJN2022_16subj_GeneralFilters.csv',encoding='utf-8') \n",
    "df_absent = pd.read_csv(path2save+'EJN2022_16subj_VSNTabsent_EX_manyNranks.csv',encoding='utf-8') \n",
    "df_pretar = pd.read_csv(path2save+'EJN2022_16subj_VSNTpre_EX_manyNranks.csv',encoding='utf-8') "
   ]
  },
  {
   "cell_type": "code",
   "execution_count": 10,
   "metadata": {},
   "outputs": [
    {
     "name": "stdout",
     "output_type": "stream",
     "text": [
      "EX: len = 3292, median = 4, iqr = 7.0, max = 13\n",
      "VSabsent: len = 4705, median = 5, iqr = 8.0, max = 16\n",
      "VSpretarget: len = 2333, median = 4, iqr = 5.0, max = 14\n"
     ]
    },
    {
     "data": {
      "text/plain": [
       "<function matplotlib.pyplot.show(close=None, block=None)>"
      ]
     },
     "execution_count": 10,
     "metadata": {},
     "output_type": "execute_result"
    },
    {
     "data": {
      "image/png": "[encoded data removed]",
      "text/plain": [
       "<Figure size 432x288 with 1 Axes>"
      ]
     },
     "metadata": {
      "needs_background": "light"
     },
     "output_type": "display_data"
    }
   ],
   "source": [
    "Xlabels = ['EX','VSabsent','VSpretarget']\n",
    "X = [df[df['trial_type']=='EX']['rank'].to_numpy(), \n",
    "        df_absent[df_absent['trial_type']=='VS']['rank'].to_numpy(), \n",
    "        df_pretar[df_pretar['trial_type']=='VS']['rank'].to_numpy()]\n",
    "\n",
    "for i in range(len(X)):\n",
    "    print('%s: len = %d, median = %d, iqr = %.1f, max = %d'%(Xlabels[i],len(X[i]),np.median(X[i]),np.quantile(X[i],.75),max(X[i])))\n",
    "    plt.hist(X[i], np.arange(1.5,20.5,1), histtype='step', stacked=True, fill=False, label=Xlabels[i], density=True)\n",
    "plt.xticks(np.arange(2,20,1))\n",
    "plt.legend(prop={'size': 10})\n",
    "plt.xlabel('rank')\n",
    "plt.ylabel('frequency')\n",
    "plt.title('rank per fixs')\n",
    "plt.show"
   ]
  },
  {
   "cell_type": "code",
   "execution_count": 11,
   "metadata": {},
   "outputs": [],
   "source": [
    "def rank_trials(df):\n",
    "    unique_sub = df['trial_subject'].unique()\n",
    "    max_rank = []\n",
    "    for sub in unique_sub:\n",
    "        subs = df[df['trial_subject']==sub]\n",
    "        unique_trial = subs['trial_number'].unique()\n",
    "        for trial in unique_trial:\n",
    "            dftr = subs[subs['trial_number']==trial]\n",
    "            max_rank.append( max(dftr['rank']))\n",
    "    return np.asarray(max_rank)"
   ]
  },
  {
   "cell_type": "code",
   "execution_count": 12,
   "metadata": {},
   "outputs": [
    {
     "name": "stdout",
     "output_type": "stream",
     "text": [
      "EX: len = 626, median = 7, max = 13\n",
      "VSabsent: len = 663, median = 9, max = 16\n",
      "VSpretarget: len = 630, median = 5, max = 14\n"
     ]
    },
    {
     "data": {
      "text/plain": [
       "<function matplotlib.pyplot.show(close=None, block=None)>"
      ]
     },
     "execution_count": 12,
     "metadata": {},
     "output_type": "execute_result"
    },
    {
     "data": {
      "image/png": "[encoded data removed]",
      "text/plain": [
       "<Figure size 432x288 with 1 Axes>"
      ]
     },
     "metadata": {
      "needs_background": "light"
     },
     "output_type": "display_data"
    }
   ],
   "source": [
    "Xlabels = ['EX','VSabsent','VSpretarget']\n",
    "X = [rank_trials(df[df['trial_type']=='EX']), \n",
    "        rank_trials(df_absent[df_absent['trial_type']=='VS']), \n",
    "        rank_trials(df_pretar[df_pretar['trial_type']=='VS'])]\n",
    "\n",
    "for i in range(len(X)):\n",
    "    print('%s: len = %d, median = %d, max = %d'%(Xlabels[i],len(X[i]),np.median(X[i]),max(X[i])))\n",
    "    plt.hist(X[i], np.arange(1.5,20.5,1), histtype='step', stacked=True, fill=False, label=Xlabels[i], density=True)\n",
    "plt.xticks(np.arange(2,20,1))\n",
    "plt.legend(prop={'size': 10})\n",
    "plt.xlabel('rank')\n",
    "plt.ylabel('frequency')\n",
    "plt.title('rank per trials')\n",
    "plt.show"
   ]
  },
  {
   "cell_type": "code",
   "execution_count": null,
   "metadata": {},
   "outputs": [],
   "source": []
  },
  {
   "cell_type": "code",
   "execution_count": null,
   "metadata": {},
   "outputs": [],
   "source": []
  }
 ],
 "metadata": {
  "kernelspec": {
   "display_name": "Python 3.8.10 64-bit",
   "language": "python",
   "name": "python3"
  },
  "language_info": {
   "codemirror_mode": {
    "name": "ipython",
    "version": 3
   },
   "file_extension": ".py",
   "mimetype": "text/x-python",
   "name": "python",
   "nbconvert_exporter": "python",
   "pygments_lexer": "ipython3",
   "version": "3.8.10"
  },
  "orig_nbformat": 4,
  "vscode": {
   "interpreter": {
    "hash": "916dbcbb3f70747c44a77c7bcd40155683ae19c65e1c03b4aa3499c5328201f1"
   }
  }
 },
 "nbformat": 4,
 "nbformat_minor": 2
}
