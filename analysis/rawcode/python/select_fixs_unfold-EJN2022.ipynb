{
 "cells": [
  {
   "cell_type": "code",
   "execution_count": 77,
   "id": "tribal-equivalent",
   "metadata": {},
   "outputs": [],
   "source": [
    "import sys\n",
    "import pandas as pd\n",
    "import os\n",
    "import numpy as np\n",
    "from scipy import stats\n",
    "import re\n",
    "import csv\n",
    "import tabulate\n",
    "import math as m\n",
    "import warnings\n",
    "warnings.filterwarnings('ignore')\n",
    "warnings.simplefilter('ignore')\n",
    "import scipy.io\n",
    "\n",
    "path_data = '/home/juank/repos/corregistro/Analysis_dac/data/input/'\n",
    "path2save = '/home/juank/Desktop/EJN2022/python/'"
   ]
  },
  {
   "cell_type": "code",
   "execution_count": 78,
   "id": "portable-execution",
   "metadata": {},
   "outputs": [],
   "source": [
    "fixs = [f for f in os.listdir(path_data) if f.endswith('FIXstruct.csv')]"
   ]
  },
  {
   "cell_type": "code",
   "execution_count": 79,
   "id": "according-leeds",
   "metadata": {},
   "outputs": [],
   "source": [
    "df = pd.DataFrame()\n",
    "for f in fixs:\n",
    "    filename = path_data+f\n",
    "    data = pd.read_csv(filename) \n",
    "    df = df.append(data)"
   ]
  },
  {
   "cell_type": "code",
   "execution_count": 80,
   "id": "southern-question",
   "metadata": {},
   "outputs": [],
   "source": [
    "# we exclude J05-J06-J07-J10\n",
    "df = df[(df['trial_subject']!='J05') & (df['trial_subject']!='J06') & \\\n",
    "                (df['trial_subject']!='J07') & (df['trial_subject']!='J10')]"
   ]
  },
  {
   "cell_type": "code",
   "execution_count": 81,
   "id": "empirical-metadata",
   "metadata": {},
   "outputs": [
    {
     "data": {
      "text/plain": [
       "22482"
      ]
     },
     "execution_count": 81,
     "metadata": {},
     "output_type": "execute_result"
    }
   ],
   "source": [
    "len(df)"
   ]
  },
  {
   "cell_type": "code",
   "execution_count": 82,
   "id": "intimate-bridge",
   "metadata": {},
   "outputs": [
    {
     "data": {
      "text/plain": [
       "Index(['refix', 'pretarget', 'multifix', 'urevent', 'tonset', 'dur_added',\n",
       "       'rank', 'first_rank', 'stposrel', 'stposabs', 'n', 'x', 'y', 'istarget',\n",
       "       'isdistractor', 'distractor_cat', 'ditractor_atr', 'trial_targetseen',\n",
       "       'trial_correct', 'trial_cat', 'trial_resp', 'trial_atr', 'trial_type',\n",
       "       'trial_cattype', 'trial_number', 'trial_subject', 'trial_bgn_latency'],\n",
       "      dtype='object')"
      ]
     },
     "execution_count": 82,
     "metadata": {},
     "output_type": "execute_result"
    }
   ],
   "source": [
    "df.columns"
   ]
  },
  {
   "cell_type": "markdown",
   "id": "turned-denver",
   "metadata": {},
   "source": [
    "# General filters:\n",
    "\n",
    "- fix duration > 0.1\n",
    "- fix duration < 1\n",
    "- refix < 2\n",
    "- correct\n",
    "- rank > 1"
   ]
  },
  {
   "cell_type": "code",
   "execution_count": 83,
   "id": "surprised-sweden",
   "metadata": {},
   "outputs": [],
   "source": [
    "# general conditions to every analysis\n",
    "df = df[(df['dur_added']>0.1) & (df['dur_added']<1) & (df['refix']<2)  & (df['trial_correct']==1) & (df['rank']>1)]\n",
    "# df = df[(df['dur_added']>0.1) & (df['dur_added']<1) & (df['refix']<2)  & (df['trial_correct']==1)]\n",
    "# df = df[(df['dur_added']>0.1) & (df['dur_added']<1) & (df['refix']<2) & (df['rank']>1)]"
   ]
  },
  {
   "cell_type": "code",
   "execution_count": 84,
   "id": "distributed-rendering",
   "metadata": {},
   "outputs": [
    {
     "data": {
      "text/html": [
       "<div>\n",
       "<style scoped>\n",
       "    .dataframe tbody tr th:only-of-type {\n",
       "        vertical-align: middle;\n",
       "    }\n",
       "\n",
       "    .dataframe tbody tr th {\n",
       "        vertical-align: top;\n",
       "    }\n",
       "\n",
       "    .dataframe thead th {\n",
       "        text-align: right;\n",
       "    }\n",
       "</style>\n",
       "<table border=\"1\" class=\"dataframe\">\n",
       "  <thead>\n",
       "    <tr style=\"text-align: right;\">\n",
       "      <th></th>\n",
       "      <th>refix</th>\n",
       "      <th>pretarget</th>\n",
       "      <th>multifix</th>\n",
       "      <th>urevent</th>\n",
       "      <th>tonset</th>\n",
       "      <th>dur_added</th>\n",
       "      <th>rank</th>\n",
       "      <th>first_rank</th>\n",
       "      <th>stposrel</th>\n",
       "      <th>stposabs</th>\n",
       "      <th>...</th>\n",
       "      <th>trial_targetseen</th>\n",
       "      <th>trial_correct</th>\n",
       "      <th>trial_cat</th>\n",
       "      <th>trial_resp</th>\n",
       "      <th>trial_atr</th>\n",
       "      <th>trial_type</th>\n",
       "      <th>trial_cattype</th>\n",
       "      <th>trial_number</th>\n",
       "      <th>trial_subject</th>\n",
       "      <th>trial_bgn_latency</th>\n",
       "    </tr>\n",
       "  </thead>\n",
       "  <tbody>\n",
       "    <tr>\n",
       "      <th>1</th>\n",
       "      <td>0</td>\n",
       "      <td>1</td>\n",
       "      <td>0</td>\n",
       "      <td>23205</td>\n",
       "      <td>0.728516</td>\n",
       "      <td>0.210938</td>\n",
       "      <td>2</td>\n",
       "      <td>1</td>\n",
       "      <td>10</td>\n",
       "      <td>37</td>\n",
       "      <td>...</td>\n",
       "      <td>0</td>\n",
       "      <td>1</td>\n",
       "      <td>faces</td>\n",
       "      <td>A</td>\n",
       "      <td>female</td>\n",
       "      <td>VS</td>\n",
       "      <td>I</td>\n",
       "      <td>1</td>\n",
       "      <td>E01</td>\n",
       "      <td>0.201172</td>\n",
       "    </tr>\n",
       "    <tr>\n",
       "      <th>2</th>\n",
       "      <td>0</td>\n",
       "      <td>1</td>\n",
       "      <td>0</td>\n",
       "      <td>23206</td>\n",
       "      <td>0.978516</td>\n",
       "      <td>0.283203</td>\n",
       "      <td>3</td>\n",
       "      <td>1</td>\n",
       "      <td>12</td>\n",
       "      <td>46</td>\n",
       "      <td>...</td>\n",
       "      <td>0</td>\n",
       "      <td>1</td>\n",
       "      <td>faces</td>\n",
       "      <td>A</td>\n",
       "      <td>female</td>\n",
       "      <td>VS</td>\n",
       "      <td>I</td>\n",
       "      <td>1</td>\n",
       "      <td>E01</td>\n",
       "      <td>0.201172</td>\n",
       "    </tr>\n",
       "    <tr>\n",
       "      <th>3</th>\n",
       "      <td>0</td>\n",
       "      <td>1</td>\n",
       "      <td>0</td>\n",
       "      <td>23207</td>\n",
       "      <td>1.328125</td>\n",
       "      <td>0.119141</td>\n",
       "      <td>4</td>\n",
       "      <td>1</td>\n",
       "      <td>8</td>\n",
       "      <td>29</td>\n",
       "      <td>...</td>\n",
       "      <td>0</td>\n",
       "      <td>1</td>\n",
       "      <td>faces</td>\n",
       "      <td>A</td>\n",
       "      <td>female</td>\n",
       "      <td>VS</td>\n",
       "      <td>I</td>\n",
       "      <td>1</td>\n",
       "      <td>E01</td>\n",
       "      <td>0.201172</td>\n",
       "    </tr>\n",
       "    <tr>\n",
       "      <th>4</th>\n",
       "      <td>0</td>\n",
       "      <td>1</td>\n",
       "      <td>1</td>\n",
       "      <td>23208</td>\n",
       "      <td>1.525391</td>\n",
       "      <td>0.125000</td>\n",
       "      <td>5</td>\n",
       "      <td>0</td>\n",
       "      <td>2</td>\n",
       "      <td>4</td>\n",
       "      <td>...</td>\n",
       "      <td>0</td>\n",
       "      <td>1</td>\n",
       "      <td>faces</td>\n",
       "      <td>A</td>\n",
       "      <td>female</td>\n",
       "      <td>VS</td>\n",
       "      <td>I</td>\n",
       "      <td>1</td>\n",
       "      <td>E01</td>\n",
       "      <td>0.201172</td>\n",
       "    </tr>\n",
       "    <tr>\n",
       "      <th>5</th>\n",
       "      <td>0</td>\n",
       "      <td>1</td>\n",
       "      <td>0</td>\n",
       "      <td>23210</td>\n",
       "      <td>1.849609</td>\n",
       "      <td>0.187500</td>\n",
       "      <td>6</td>\n",
       "      <td>0</td>\n",
       "      <td>3</td>\n",
       "      <td>6</td>\n",
       "      <td>...</td>\n",
       "      <td>0</td>\n",
       "      <td>1</td>\n",
       "      <td>faces</td>\n",
       "      <td>A</td>\n",
       "      <td>female</td>\n",
       "      <td>VS</td>\n",
       "      <td>I</td>\n",
       "      <td>1</td>\n",
       "      <td>E01</td>\n",
       "      <td>0.201172</td>\n",
       "    </tr>\n",
       "    <tr>\n",
       "      <th>...</th>\n",
       "      <td>...</td>\n",
       "      <td>...</td>\n",
       "      <td>...</td>\n",
       "      <td>...</td>\n",
       "      <td>...</td>\n",
       "      <td>...</td>\n",
       "      <td>...</td>\n",
       "      <td>...</td>\n",
       "      <td>...</td>\n",
       "      <td>...</td>\n",
       "      <td>...</td>\n",
       "      <td>...</td>\n",
       "      <td>...</td>\n",
       "      <td>...</td>\n",
       "      <td>...</td>\n",
       "      <td>...</td>\n",
       "      <td>...</td>\n",
       "      <td>...</td>\n",
       "      <td>...</td>\n",
       "      <td>...</td>\n",
       "      <td>...</td>\n",
       "    </tr>\n",
       "    <tr>\n",
       "      <th>1515</th>\n",
       "      <td>0</td>\n",
       "      <td>0</td>\n",
       "      <td>0</td>\n",
       "      <td>31632</td>\n",
       "      <td>2.455078</td>\n",
       "      <td>0.664062</td>\n",
       "      <td>4</td>\n",
       "      <td>1</td>\n",
       "      <td>8</td>\n",
       "      <td>42</td>\n",
       "      <td>...</td>\n",
       "      <td>1</td>\n",
       "      <td>1</td>\n",
       "      <td>objects</td>\n",
       "      <td>P</td>\n",
       "      <td>small</td>\n",
       "      <td>VS</td>\n",
       "      <td>O</td>\n",
       "      <td>215</td>\n",
       "      <td>J12</td>\n",
       "      <td>898.833984</td>\n",
       "    </tr>\n",
       "    <tr>\n",
       "      <th>1516</th>\n",
       "      <td>0</td>\n",
       "      <td>0</td>\n",
       "      <td>0</td>\n",
       "      <td>31634</td>\n",
       "      <td>3.927734</td>\n",
       "      <td>0.166016</td>\n",
       "      <td>5</td>\n",
       "      <td>0</td>\n",
       "      <td>6</td>\n",
       "      <td>34</td>\n",
       "      <td>...</td>\n",
       "      <td>1</td>\n",
       "      <td>1</td>\n",
       "      <td>objects</td>\n",
       "      <td>P</td>\n",
       "      <td>small</td>\n",
       "      <td>VS</td>\n",
       "      <td>O</td>\n",
       "      <td>215</td>\n",
       "      <td>J12</td>\n",
       "      <td>898.833984</td>\n",
       "    </tr>\n",
       "    <tr>\n",
       "      <th>1518</th>\n",
       "      <td>0</td>\n",
       "      <td>1</td>\n",
       "      <td>0</td>\n",
       "      <td>31647</td>\n",
       "      <td>0.552734</td>\n",
       "      <td>0.212891</td>\n",
       "      <td>2</td>\n",
       "      <td>1</td>\n",
       "      <td>1</td>\n",
       "      <td>4</td>\n",
       "      <td>...</td>\n",
       "      <td>0</td>\n",
       "      <td>1</td>\n",
       "      <td>faces</td>\n",
       "      <td>P</td>\n",
       "      <td>female</td>\n",
       "      <td>VS</td>\n",
       "      <td>F</td>\n",
       "      <td>216</td>\n",
       "      <td>J12</td>\n",
       "      <td>903.033203</td>\n",
       "    </tr>\n",
       "    <tr>\n",
       "      <th>1519</th>\n",
       "      <td>0</td>\n",
       "      <td>1</td>\n",
       "      <td>0</td>\n",
       "      <td>31648</td>\n",
       "      <td>0.783203</td>\n",
       "      <td>0.246094</td>\n",
       "      <td>3</td>\n",
       "      <td>1</td>\n",
       "      <td>2</td>\n",
       "      <td>5</td>\n",
       "      <td>...</td>\n",
       "      <td>0</td>\n",
       "      <td>1</td>\n",
       "      <td>faces</td>\n",
       "      <td>P</td>\n",
       "      <td>female</td>\n",
       "      <td>VS</td>\n",
       "      <td>F</td>\n",
       "      <td>216</td>\n",
       "      <td>J12</td>\n",
       "      <td>903.033203</td>\n",
       "    </tr>\n",
       "    <tr>\n",
       "      <th>1520</th>\n",
       "      <td>0</td>\n",
       "      <td>1</td>\n",
       "      <td>1</td>\n",
       "      <td>31652</td>\n",
       "      <td>1.865234</td>\n",
       "      <td>0.275391</td>\n",
       "      <td>4</td>\n",
       "      <td>1</td>\n",
       "      <td>15</td>\n",
       "      <td>70</td>\n",
       "      <td>...</td>\n",
       "      <td>0</td>\n",
       "      <td>1</td>\n",
       "      <td>faces</td>\n",
       "      <td>P</td>\n",
       "      <td>female</td>\n",
       "      <td>VS</td>\n",
       "      <td>F</td>\n",
       "      <td>216</td>\n",
       "      <td>J12</td>\n",
       "      <td>903.033203</td>\n",
       "    </tr>\n",
       "  </tbody>\n",
       "</table>\n",
       "<p>12701 rows × 27 columns</p>\n",
       "</div>"
      ],
      "text/plain": [
       "      refix  pretarget  multifix  urevent    tonset  dur_added  rank  \\\n",
       "1         0          1         0    23205  0.728516   0.210938     2   \n",
       "2         0          1         0    23206  0.978516   0.283203     3   \n",
       "3         0          1         0    23207  1.328125   0.119141     4   \n",
       "4         0          1         1    23208  1.525391   0.125000     5   \n",
       "5         0          1         0    23210  1.849609   0.187500     6   \n",
       "...     ...        ...       ...      ...       ...        ...   ...   \n",
       "1515      0          0         0    31632  2.455078   0.664062     4   \n",
       "1516      0          0         0    31634  3.927734   0.166016     5   \n",
       "1518      0          1         0    31647  0.552734   0.212891     2   \n",
       "1519      0          1         0    31648  0.783203   0.246094     3   \n",
       "1520      0          1         1    31652  1.865234   0.275391     4   \n",
       "\n",
       "      first_rank  stposrel  stposabs  ...  trial_targetseen  trial_correct  \\\n",
       "1              1        10        37  ...                 0              1   \n",
       "2              1        12        46  ...                 0              1   \n",
       "3              1         8        29  ...                 0              1   \n",
       "4              0         2         4  ...                 0              1   \n",
       "5              0         3         6  ...                 0              1   \n",
       "...          ...       ...       ...  ...               ...            ...   \n",
       "1515           1         8        42  ...                 1              1   \n",
       "1516           0         6        34  ...                 1              1   \n",
       "1518           1         1         4  ...                 0              1   \n",
       "1519           1         2         5  ...                 0              1   \n",
       "1520           1        15        70  ...                 0              1   \n",
       "\n",
       "      trial_cat  trial_resp  trial_atr trial_type trial_cattype  trial_number  \\\n",
       "1         faces           A     female         VS             I             1   \n",
       "2         faces           A     female         VS             I             1   \n",
       "3         faces           A     female         VS             I             1   \n",
       "4         faces           A     female         VS             I             1   \n",
       "5         faces           A     female         VS             I             1   \n",
       "...         ...         ...        ...        ...           ...           ...   \n",
       "1515    objects           P      small         VS             O           215   \n",
       "1516    objects           P      small         VS             O           215   \n",
       "1518      faces           P     female         VS             F           216   \n",
       "1519      faces           P     female         VS             F           216   \n",
       "1520      faces           P     female         VS             F           216   \n",
       "\n",
       "      trial_subject trial_bgn_latency  \n",
       "1               E01          0.201172  \n",
       "2               E01          0.201172  \n",
       "3               E01          0.201172  \n",
       "4               E01          0.201172  \n",
       "5               E01          0.201172  \n",
       "...             ...               ...  \n",
       "1515            J12        898.833984  \n",
       "1516            J12        898.833984  \n",
       "1518            J12        903.033203  \n",
       "1519            J12        903.033203  \n",
       "1520            J12        903.033203  \n",
       "\n",
       "[12701 rows x 27 columns]"
      ]
     },
     "execution_count": 84,
     "metadata": {},
     "output_type": "execute_result"
    }
   ],
   "source": [
    "df.sort_values(by = ['trial_subject', 'trial_number'])"
   ]
  },
  {
   "cell_type": "code",
   "execution_count": 85,
   "id": "british-design",
   "metadata": {},
   "outputs": [
    {
     "data": {
      "text/plain": [
       "12701"
      ]
     },
     "execution_count": 85,
     "metadata": {},
     "output_type": "execute_result"
    }
   ],
   "source": [
    "len(df)"
   ]
  },
  {
   "cell_type": "code",
   "execution_count": 86,
   "id": "50802ae6",
   "metadata": {},
   "outputs": [
    {
     "name": "stdout",
     "output_type": "stream",
     "text": [
      "Fig. 3: Distractors + Target\n",
      "EX: 3292\n",
      "VS: 9409\n",
      "VS + Distractor: 8653\n",
      "VS-P: 4689\n",
      "VS-A: 4720\n",
      "EX + VS-P: 7981\n",
      "VS-P-seen: 4057\n",
      "EX + VS-P-seen: 7349\n"
     ]
    }
   ],
   "source": [
    "print('Fig. 3: Distractors + Target')\n",
    "print('EX: %d'%sum(df['trial_type']=='EX'))\n",
    "print('VS: %d'%(sum(df['trial_type']=='VS')))\n",
    "print('VS + Distractor: %d'%(sum((df['trial_type']=='VS') & (df['istarget']==0))))\n",
    "print('VS-P: %d'%sum((df['trial_type']=='VS') & (df['trial_resp']=='P')))\n",
    "print('VS-A: %d'%sum((df['trial_type']=='VS') & (df['trial_resp']=='A')))\n",
    "print('EX + VS-P: %d'%(sum(df['trial_type']=='EX') + sum((df['trial_type']=='VS') & (df['trial_resp']=='P'))))\n",
    "print('VS-P-seen: %d'%sum((df['trial_type']=='VS') & (df['trial_resp']=='P') & (df['trial_targetseen']==1)))\n",
    "print('EX + VS-P-seen: %d'%(sum(df['trial_type']=='EX') + sum((df['trial_type']=='VS') & (df['trial_resp']=='P') & (df['trial_targetseen']==1))))"
   ]
  },
  {
   "cell_type": "code",
   "execution_count": 87,
   "id": "faced-trance",
   "metadata": {},
   "outputs": [],
   "source": [
    "df.to_csv(path2save+'EJN2022_16subj_GeneralFilters.csv',index=False,encoding='utf-8',columns=df.columns)"
   ]
  },
  {
   "cell_type": "markdown",
   "id": "humanitarian-herald",
   "metadata": {},
   "source": [
    "# VS(NT) & EX"
   ]
  },
  {
   "cell_type": "code",
   "execution_count": 88,
   "id": "exact-champion",
   "metadata": {},
   "outputs": [
    {
     "data": {
      "text/plain": [
       "array([0])"
      ]
     },
     "execution_count": 88,
     "metadata": {},
     "output_type": "execute_result"
    }
   ],
   "source": [
    "# check every EX fixations are labeled as distractors\n",
    "df[df['trial_type']=='EX']['istarget'].unique()"
   ]
  },
  {
   "cell_type": "code",
   "execution_count": 89,
   "id": "provincial-angola",
   "metadata": {},
   "outputs": [],
   "source": [
    "# select distractors\n",
    "df_type = df.copy()\n",
    "df_type = df_type[df_type['istarget']==0]"
   ]
  },
  {
   "cell_type": "code",
   "execution_count": 90,
   "id": "understanding-freeware",
   "metadata": {},
   "outputs": [
    {
     "data": {
      "text/plain": [
       "11945"
      ]
     },
     "execution_count": 90,
     "metadata": {},
     "output_type": "execute_result"
    }
   ],
   "source": [
    "len(df_type)"
   ]
  },
  {
   "cell_type": "code",
   "execution_count": 91,
   "id": "dress-scanning",
   "metadata": {},
   "outputs": [
    {
     "data": {
      "text/plain": [
       "0"
      ]
     },
     "execution_count": 91,
     "metadata": {},
     "output_type": "execute_result"
    }
   ],
   "source": [
    "# check if VS fixations selected are distractors\n",
    "len(df_type[(df_type['trial_type']=='VS') & (df_type['isdistractor']==0)])"
   ]
  },
  {
   "cell_type": "code",
   "execution_count": 92,
   "id": "allied-folks",
   "metadata": {},
   "outputs": [
    {
     "name": "stdout",
     "output_type": "stream",
     "text": [
      "NAs in Nrank: 221\n"
     ]
    }
   ],
   "source": [
    "unique_sub = df_type['trial_subject'].unique()\n",
    "Nrank = []\n",
    "for sub in unique_sub:\n",
    "    subs = df_type[df_type['trial_subject']==sub]\n",
    "    unique_trial = subs['trial_number'].unique()\n",
    "    for trial in unique_trial:\n",
    "        dftr = subs[subs['trial_number']==trial]\n",
    "        max_rank = max(dftr['rank'])\n",
    "        min_rank = min(dftr['rank'])\n",
    "        Nrank.append((np.array(dftr['rank'])-min_rank)/(max_rank-min_rank))\n",
    "Nrank = np.concatenate(Nrank).ravel().tolist()\n",
    "df_type['Nrank'] = Nrank\n",
    "print('NAs in Nrank: %d'%sum(np.isnan(df_type['Nrank'])))\n",
    "\n",
    "df_type = df_type[~np.isnan(df_type['Nrank'])]"
   ]
  },
  {
   "cell_type": "code",
   "execution_count": 93,
   "id": "9b2d848b",
   "metadata": {},
   "outputs": [
    {
     "name": "stdout",
     "output_type": "stream",
     "text": [
      "NAs in N_subj_rank: 0\n"
     ]
    }
   ],
   "source": [
    "# N_subj_rank\n",
    "unique_sub = df_type['trial_subject'].unique()\n",
    "N_subj_rank = []\n",
    "for sub in unique_sub:\n",
    "    subs = df_type[df_type['trial_subject']==sub]\n",
    "    max_rank = max(subs['rank'])\n",
    "    min_rank = min(subs['rank'])\n",
    "    N_subj_rank.append((np.array(subs['rank'])-min_rank)/(max_rank-min_rank))\n",
    "N_subj_rank = np.concatenate(N_subj_rank).ravel().tolist()\n",
    "df_type['N_subj_rank'] = N_subj_rank\n",
    "print('NAs in N_subj_rank: %d'%sum(np.isnan(df_type['N_subj_rank'])))\n",
    "\n",
    "df_type['NC_subj_rank']  = df_type['N_subj_rank']-0.5\n",
    "df_type['NC_rank']       = df_type['Nrank']-0.5"
   ]
  },
  {
   "cell_type": "code",
   "execution_count": 94,
   "id": "rapid-actress",
   "metadata": {},
   "outputs": [
    {
     "data": {
      "text/plain": [
       "11724"
      ]
     },
     "execution_count": 94,
     "metadata": {},
     "output_type": "execute_result"
    }
   ],
   "source": [
    "len(df_type)"
   ]
  },
  {
   "cell_type": "markdown",
   "id": "macro-apartment",
   "metadata": {},
   "source": [
    "## VS(NT) absent & EX"
   ]
  },
  {
   "cell_type": "code",
   "execution_count": 19,
   "id": "standing-affair",
   "metadata": {},
   "outputs": [
    {
     "data": {
      "text/plain": [
       "array(['A'], dtype=object)"
      ]
     },
     "execution_count": 19,
     "metadata": {},
     "output_type": "execute_result"
    }
   ],
   "source": [
    "# check every EX fixations are labeled as absent\n",
    "df_type[df_type['trial_type']=='EX']['trial_resp'].unique()"
   ]
  },
  {
   "cell_type": "code",
   "execution_count": 20,
   "id": "loving-rebecca",
   "metadata": {},
   "outputs": [
    {
     "name": "stdout",
     "output_type": "stream",
     "text": [
      "Maximum rank: 16\n",
      "Maximum normalized rank: 1\n",
      "Length = 7950\n"
     ]
    }
   ],
   "source": [
    "df_absent = df_type.copy()\n",
    "df_absent = df_absent[df_absent['trial_resp']=='A']\n",
    "\n",
    "# add VSNT_EX and isEX columns\n",
    "conditions = [(df_absent['trial_type']=='VS'),(df_absent['trial_type']=='EX')]\n",
    "\n",
    "# create a list of the values we want to assign for each condition\n",
    "values = [1, 0]\n",
    "values2 = [0, 1]\n",
    "\n",
    "# create a new column and use np.select to assign values to it using our lists as arguments\n",
    "df_absent['VSNT_EX'] = np.select(conditions, values)\n",
    "df_absent['isEX'] = np.select(conditions, values2)\n",
    "\n",
    "# checks...\n",
    "print('Maximum rank: %d'%max(df_absent['rank']))\n",
    "print('Maximum normalized rank: %d'%max(df_absent['Nrank']))\n",
    "\n",
    "print('Length = %d'%len(df_absent))\n",
    "\n",
    "#save\n",
    "df_absent.to_csv(path2save+'EJN2022_16subj_VSNTabsent_EX_manyNranks.csv',index=False,encoding='utf-8',columns=df_absent.columns)"
   ]
  },
  {
   "cell_type": "markdown",
   "id": "annoying-modeling",
   "metadata": {},
   "source": [
    "## VS(NT) present&targetseen & EX"
   ]
  },
  {
   "cell_type": "code",
   "execution_count": 21,
   "id": "upset-romance",
   "metadata": {},
   "outputs": [
    {
     "data": {
      "text/plain": [
       "array([0])"
      ]
     },
     "execution_count": 21,
     "metadata": {},
     "output_type": "execute_result"
    }
   ],
   "source": [
    "df_type[df_type['trial_type']=='EX']['trial_targetseen'].unique()"
   ]
  },
  {
   "cell_type": "code",
   "execution_count": 22,
   "id": "widespread-ability",
   "metadata": {},
   "outputs": [
    {
     "data": {
      "text/plain": [
       "array([1, 0])"
      ]
     },
     "execution_count": 22,
     "metadata": {},
     "output_type": "execute_result"
    }
   ],
   "source": [
    "df_type[df_type['trial_type']=='VS']['trial_targetseen'].unique()"
   ]
  },
  {
   "cell_type": "code",
   "execution_count": 23,
   "id": "transparent-headquarters",
   "metadata": {},
   "outputs": [],
   "source": [
    "df_TS = df_type.copy()"
   ]
  },
  {
   "cell_type": "code",
   "execution_count": 24,
   "id": "liable-player",
   "metadata": {},
   "outputs": [
    {
     "data": {
      "text/plain": [
       "array([1, 0])"
      ]
     },
     "execution_count": 24,
     "metadata": {},
     "output_type": "execute_result"
    }
   ],
   "source": [
    "# check VS trials are pre+pos target\n",
    "\n",
    "df_TS[df_TS['trial_type']=='VS']['pretarget'].unique()"
   ]
  },
  {
   "cell_type": "code",
   "execution_count": 25,
   "id": "powerful-grocery",
   "metadata": {},
   "outputs": [
    {
     "name": "stdout",
     "output_type": "stream",
     "text": [
      "VS-A o VS-P+unseen targets: 5303\n",
      "Maximum rank: 14\n",
      "Maximum normalized rank: 1\n",
      "Length = 6421\n"
     ]
    }
   ],
   "source": [
    "# add TS column for VS targetseen\n",
    "conditions = [((df_TS['trial_type']=='VS') & (df_TS['trial_targetseen']==1)),\\\n",
    "              (df_TS['trial_type']=='EX'),((df_TS['trial_type']=='VS') & (df_TS['trial_targetseen']==0))]\n",
    "\n",
    "# create a list of the values we want to assign for each condition\n",
    "values = [1, 0, np.nan]\n",
    "\n",
    "# create a new column and use np.select to assign values to it using our lists as arguments\n",
    "df_TS['TS'] = np.select(conditions, values)\n",
    "\n",
    "# delete TS nan values\n",
    "print('VS-A o VS-P+unseen targets: %d'%sum(np.isnan(df_TS['TS'])))\n",
    "df_TS = df_TS[~np.isnan(df_TS['TS'])]\n",
    "\n",
    "# checks...\n",
    "print('Maximum rank: %d'%max(df_TS['rank']))\n",
    "print('Maximum normalized rank: %d'%max(df_TS['Nrank']))\n",
    "\n",
    "print('Length = %d'%len(df_TS))\n",
    "\n",
    "# save\n",
    "df_TS.to_csv(path2save+'EJN2022_16subj_VSNT_EX.csv',index=False,encoding='utf-8',columns=df_TS.columns)"
   ]
  },
  {
   "cell_type": "code",
   "execution_count": 26,
   "id": "rough-belief",
   "metadata": {},
   "outputs": [
    {
     "data": {
      "text/plain": [
       "array([1])"
      ]
     },
     "execution_count": 26,
     "metadata": {},
     "output_type": "execute_result"
    }
   ],
   "source": [
    "df_TS[df_TS['trial_type']=='VS']['trial_targetseen'].unique()"
   ]
  },
  {
   "cell_type": "markdown",
   "id": "latest-correspondence",
   "metadata": {},
   "source": [
    "### VS(NT) pretarget & EX"
   ]
  },
  {
   "cell_type": "code",
   "execution_count": 27,
   "id": "superb-jewel",
   "metadata": {},
   "outputs": [
    {
     "data": {
      "text/plain": [
       "array([1])"
      ]
     },
     "execution_count": 27,
     "metadata": {},
     "output_type": "execute_result"
    }
   ],
   "source": [
    "df_TS[df_TS['trial_type']=='EX']['pretarget'].unique()"
   ]
  },
  {
   "cell_type": "code",
   "execution_count": 28,
   "id": "realistic-average",
   "metadata": {},
   "outputs": [],
   "source": [
    "df_pre = df_TS.copy()"
   ]
  },
  {
   "cell_type": "code",
   "execution_count": 29,
   "id": "noted-beads",
   "metadata": {},
   "outputs": [
    {
     "name": "stdout",
     "output_type": "stream",
     "text": [
      "6421\n"
     ]
    }
   ],
   "source": [
    "# add VSNT_EX and isEX columns\n",
    "conditions = [((df_pre['trial_type']=='VS') & (df_pre['pretarget']==1)),\\\n",
    "              (df_pre['trial_type']=='EX'),((df_pre['trial_type']=='VS') & (df_pre['pretarget']==0))]\n",
    "\n",
    "# create a list of the values we want to assign for each condition\n",
    "values = [1, 0, np.nan]\n",
    "values2 = [0, 1, np.nan]\n",
    "\n",
    "# create a new column and use np.select to assign values to it using our lists as arguments\n",
    "df_pre['VSNT_EX'] = np.select(conditions, values)\n",
    "df_pre['isEX'] = np.select(conditions, values2)\n",
    "\n",
    "print(len(df_pre))\n"
   ]
  },
  {
   "cell_type": "code",
   "execution_count": 30,
   "id": "fitted-reynolds",
   "metadata": {},
   "outputs": [
    {
     "data": {
      "text/plain": [
       "array([1])"
      ]
     },
     "execution_count": 30,
     "metadata": {},
     "output_type": "execute_result"
    }
   ],
   "source": [
    "# check if VS fixations selected are pretargets\n",
    "df_pre[(df_pre['VSNT_EX']==1)]['pretarget'].unique()"
   ]
  },
  {
   "cell_type": "code",
   "execution_count": 31,
   "id": "affiliated-electric",
   "metadata": {},
   "outputs": [
    {
     "data": {
      "text/plain": [
       "array([0])"
      ]
     },
     "execution_count": 31,
     "metadata": {},
     "output_type": "execute_result"
    }
   ],
   "source": [
    "# check if nan values for VSNT_EX fixations are posttarget\n",
    "df_pre[np.isnan(df_pre['VSNT_EX'])]['pretarget'].unique()"
   ]
  },
  {
   "cell_type": "code",
   "execution_count": 32,
   "id": "earned-ground",
   "metadata": {},
   "outputs": [
    {
     "name": "stdout",
     "output_type": "stream",
     "text": [
      "5578\n",
      "Maximum rank: 14\n",
      "Maximum normalized rank: 1\n"
     ]
    }
   ],
   "source": [
    "# delete nan values\n",
    "df_pre = df_pre[~np.isnan(df_pre['VSNT_EX'])]\n",
    "print(len(df_pre))\n",
    "\n",
    "print('Maximum rank: %d'%max(df_pre['rank']))\n",
    "print('Maximum normalized rank: %d'%max(df_pre['Nrank']))\n",
    "\n",
    "# save\n",
    "df_pre.to_csv(path2save+'EJN2022_16subj_VSNTpre_EX.csv',index=False,encoding='utf-8',columns=df_pre.columns)"
   ]
  },
  {
   "cell_type": "code",
   "execution_count": 33,
   "id": "e4bb9196",
   "metadata": {},
   "outputs": [
    {
     "name": "stdout",
     "output_type": "stream",
     "text": [
      "NAs in N_subj_rank: 0\n"
     ]
    }
   ],
   "source": [
    "# We have to recalculate because now the maximum corresponds to the target fix and not to the end of the trial\n",
    "# N_subj_rank\n",
    "unique_sub = df_pre['trial_subject'].unique()\n",
    "N_subj_rank = []\n",
    "for sub in unique_sub:\n",
    "    subs = df_pre[df_pre['trial_subject']==sub]\n",
    "    max_rank = max(subs['rank'])\n",
    "    min_rank = min(subs['rank'])\n",
    "    N_subj_rank.append((np.array(subs['rank'])-min_rank)/(max_rank-min_rank))\n",
    "N_subj_rank = np.concatenate(N_subj_rank).ravel().tolist()\n",
    "df_pre['N_subj_rank'] = N_subj_rank\n",
    "print('NAs in N_subj_rank: %d'%sum(np.isnan(df_pre['N_subj_rank'])))\n",
    "\n",
    "df_pre['NC_subj_rank']  = df_pre['N_subj_rank']-0.5\n",
    "df_pre['NC_rank']       = df_pre['Nrank']-0.5\n",
    "\n",
    "#save\n",
    "df_pre.to_csv(path2save+'EJN2022_16subj_VSNTpre_EX_manyNranks.csv',index=False,encoding='utf-8',columns=df_pre.columns)"
   ]
  },
  {
   "cell_type": "code",
   "execution_count": 34,
   "id": "optional-brave",
   "metadata": {},
   "outputs": [
    {
     "data": {
      "text/plain": [
       "array([1])"
      ]
     },
     "execution_count": 34,
     "metadata": {},
     "output_type": "execute_result"
    }
   ],
   "source": [
    "# check if VS fixations selected are pretargets\n",
    "df_pre[df_pre['VSNT_EX']==1]['pretarget'].unique()"
   ]
  },
  {
   "cell_type": "code",
   "execution_count": 35,
   "id": "banned-flour",
   "metadata": {},
   "outputs": [
    {
     "data": {
      "text/plain": [
       "array([1., 0.])"
      ]
     },
     "execution_count": 35,
     "metadata": {},
     "output_type": "execute_result"
    }
   ],
   "source": [
    "# check if nan values in isEX where avoided\n",
    "df_pre['isEX'].unique()"
   ]
  },
  {
   "cell_type": "code",
   "execution_count": 36,
   "id": "buried-latitude",
   "metadata": {},
   "outputs": [
    {
     "data": {
      "text/plain": [
       "array([0., 1.])"
      ]
     },
     "execution_count": 36,
     "metadata": {},
     "output_type": "execute_result"
    }
   ],
   "source": [
    "# check if nan values in VSNT_EX where avoided\n",
    "df_pre['VSNT_EX'].unique()"
   ]
  },
  {
   "cell_type": "code",
   "execution_count": 37,
   "id": "polyphonic-milan",
   "metadata": {},
   "outputs": [
    {
     "data": {
      "text/plain": [
       "array([], dtype=int64)"
      ]
     },
     "execution_count": 37,
     "metadata": {},
     "output_type": "execute_result"
    }
   ],
   "source": [
    "# check if nan values in VSNT_EX where avoided\n",
    "df_pre[np.isnan(df_pre['VSNT_EX'])]['pretarget'].unique()"
   ]
  },
  {
   "cell_type": "code",
   "execution_count": 38,
   "id": "verbal-jacob",
   "metadata": {},
   "outputs": [
    {
     "data": {
      "text/plain": [
       "16"
      ]
     },
     "execution_count": 38,
     "metadata": {},
     "output_type": "execute_result"
    }
   ],
   "source": [
    "len(df_pre['trial_subject'].unique())"
   ]
  },
  {
   "cell_type": "code",
   "execution_count": 39,
   "id": "australian-bread",
   "metadata": {},
   "outputs": [
    {
     "data": {
      "text/plain": [
       "102"
      ]
     },
     "execution_count": 39,
     "metadata": {},
     "output_type": "execute_result"
    }
   ],
   "source": [
    "len(df_pre[(df_pre['trial_subject']=='E01')]['trial_number'].unique())"
   ]
  },
  {
   "cell_type": "code",
   "execution_count": 40,
   "id": "frozen-operations",
   "metadata": {},
   "outputs": [
    {
     "data": {
      "text/html": [
       "<div>\n",
       "<style scoped>\n",
       "    .dataframe tbody tr th:only-of-type {\n",
       "        vertical-align: middle;\n",
       "    }\n",
       "\n",
       "    .dataframe tbody tr th {\n",
       "        vertical-align: top;\n",
       "    }\n",
       "\n",
       "    .dataframe thead th {\n",
       "        text-align: right;\n",
       "    }\n",
       "</style>\n",
       "<table border=\"1\" class=\"dataframe\">\n",
       "  <thead>\n",
       "    <tr style=\"text-align: right;\">\n",
       "      <th></th>\n",
       "      <th>rank</th>\n",
       "      <th>Nrank</th>\n",
       "      <th>trial_number</th>\n",
       "      <th>trial_subject</th>\n",
       "    </tr>\n",
       "  </thead>\n",
       "  <tbody>\n",
       "  </tbody>\n",
       "</table>\n",
       "</div>"
      ],
      "text/plain": [
       "Empty DataFrame\n",
       "Columns: [rank, Nrank, trial_number, trial_subject]\n",
       "Index: []"
      ]
     },
     "execution_count": 40,
     "metadata": {},
     "output_type": "execute_result"
    }
   ],
   "source": [
    "df_pre[df_pre['Nrank'].isnull()][['rank','Nrank','trial_number', 'trial_subject']].head(30)"
   ]
  },
  {
   "cell_type": "markdown",
   "id": "76bc67e7",
   "metadata": {},
   "source": [
    "### Check one participant"
   ]
  },
  {
   "cell_type": "code",
   "execution_count": 41,
   "id": "blank-verse",
   "metadata": {},
   "outputs": [],
   "source": [
    "subj1 = df_pre[(df_pre['trial_subject']=='E01')]"
   ]
  },
  {
   "cell_type": "code",
   "execution_count": 42,
   "id": "electrical-juice",
   "metadata": {},
   "outputs": [
    {
     "data": {
      "text/plain": [
       "array([0, 1])"
      ]
     },
     "execution_count": 42,
     "metadata": {},
     "output_type": "execute_result"
    }
   ],
   "source": [
    "subj1['refix'].unique()"
   ]
  },
  {
   "cell_type": "code",
   "execution_count": 43,
   "id": "oriented-contamination",
   "metadata": {},
   "outputs": [
    {
     "data": {
      "text/plain": [
       "array([1])"
      ]
     },
     "execution_count": 43,
     "metadata": {},
     "output_type": "execute_result"
    }
   ],
   "source": [
    "subj1['pretarget'].unique()"
   ]
  },
  {
   "cell_type": "code",
   "execution_count": 44,
   "id": "excess-worst",
   "metadata": {},
   "outputs": [
    {
     "data": {
      "text/plain": [
       "array([1])"
      ]
     },
     "execution_count": 44,
     "metadata": {},
     "output_type": "execute_result"
    }
   ],
   "source": [
    "subj1[subj1['isEX']==1]['pretarget'].unique()"
   ]
  },
  {
   "cell_type": "code",
   "execution_count": 45,
   "id": "featured-planner",
   "metadata": {},
   "outputs": [
    {
     "data": {
      "text/plain": [
       "array([0, 1])"
      ]
     },
     "execution_count": 45,
     "metadata": {},
     "output_type": "execute_result"
    }
   ],
   "source": [
    "subj1['multifix'].unique()"
   ]
  },
  {
   "cell_type": "code",
   "execution_count": 46,
   "id": "bored-china",
   "metadata": {},
   "outputs": [
    {
     "data": {
      "text/plain": [
       "0.1015625"
      ]
     },
     "execution_count": 46,
     "metadata": {},
     "output_type": "execute_result"
    }
   ],
   "source": [
    "subj1['dur_added'].min()"
   ]
  },
  {
   "cell_type": "code",
   "execution_count": 47,
   "id": "systematic-nutrition",
   "metadata": {},
   "outputs": [
    {
     "data": {
      "text/plain": [
       "0.56640625"
      ]
     },
     "execution_count": 47,
     "metadata": {},
     "output_type": "execute_result"
    }
   ],
   "source": [
    "subj1['dur_added'].max()"
   ]
  },
  {
   "cell_type": "code",
   "execution_count": 48,
   "id": "quarterly-sunglasses",
   "metadata": {},
   "outputs": [
    {
     "data": {
      "text/plain": [
       "12"
      ]
     },
     "execution_count": 48,
     "metadata": {},
     "output_type": "execute_result"
    }
   ],
   "source": [
    "len(subj1['rank'].unique())"
   ]
  },
  {
   "cell_type": "code",
   "execution_count": 49,
   "id": "useful-hunger",
   "metadata": {},
   "outputs": [
    {
     "data": {
      "text/plain": [
       "509"
      ]
     },
     "execution_count": 49,
     "metadata": {},
     "output_type": "execute_result"
    }
   ],
   "source": [
    "len(subj1)"
   ]
  },
  {
   "cell_type": "code",
   "execution_count": 50,
   "id": "small-alpha",
   "metadata": {},
   "outputs": [
    {
     "data": {
      "text/plain": [
       "array([1, 0])"
      ]
     },
     "execution_count": 50,
     "metadata": {},
     "output_type": "execute_result"
    }
   ],
   "source": [
    "subj1['first_rank'].unique()"
   ]
  },
  {
   "cell_type": "code",
   "execution_count": 51,
   "id": "macro-information",
   "metadata": {},
   "outputs": [
    {
     "data": {
      "text/plain": [
       "array([0])"
      ]
     },
     "execution_count": 51,
     "metadata": {},
     "output_type": "execute_result"
    }
   ],
   "source": [
    "subj1['istarget'].unique()"
   ]
  },
  {
   "cell_type": "code",
   "execution_count": 52,
   "id": "preliminary-journey",
   "metadata": {},
   "outputs": [
    {
     "data": {
      "text/plain": [
       "array([1])"
      ]
     },
     "execution_count": 52,
     "metadata": {},
     "output_type": "execute_result"
    }
   ],
   "source": [
    "subj1['isdistractor'].unique()"
   ]
  },
  {
   "cell_type": "code",
   "execution_count": 53,
   "id": "informed-concord",
   "metadata": {},
   "outputs": [
    {
     "data": {
      "text/plain": [
       "array(['faces', 'objects'], dtype=object)"
      ]
     },
     "execution_count": 53,
     "metadata": {},
     "output_type": "execute_result"
    }
   ],
   "source": [
    "subj1['distractor_cat'].unique()"
   ]
  },
  {
   "cell_type": "code",
   "execution_count": 54,
   "id": "aboriginal-stocks",
   "metadata": {},
   "outputs": [
    {
     "data": {
      "text/plain": [
       "array(['male', 'small', 'female', 'big'], dtype=object)"
      ]
     },
     "execution_count": 54,
     "metadata": {},
     "output_type": "execute_result"
    }
   ],
   "source": [
    "subj1['ditractor_atr'].unique()"
   ]
  },
  {
   "cell_type": "code",
   "execution_count": 55,
   "id": "radio-canadian",
   "metadata": {},
   "outputs": [
    {
     "data": {
      "text/plain": [
       "array([1, 0])"
      ]
     },
     "execution_count": 55,
     "metadata": {},
     "output_type": "execute_result"
    }
   ],
   "source": [
    "subj1['trial_targetseen'].unique()"
   ]
  },
  {
   "cell_type": "code",
   "execution_count": 56,
   "id": "severe-mistake",
   "metadata": {},
   "outputs": [
    {
     "data": {
      "text/plain": [
       "array([1])"
      ]
     },
     "execution_count": 56,
     "metadata": {},
     "output_type": "execute_result"
    }
   ],
   "source": [
    "subj1[subj1['VSNT_EX']==1]['trial_targetseen'].unique()"
   ]
  },
  {
   "cell_type": "code",
   "execution_count": 57,
   "id": "collected-president",
   "metadata": {},
   "outputs": [
    {
     "data": {
      "text/plain": [
       "array([1])"
      ]
     },
     "execution_count": 57,
     "metadata": {},
     "output_type": "execute_result"
    }
   ],
   "source": [
    "subj1['trial_correct'].unique()"
   ]
  },
  {
   "cell_type": "code",
   "execution_count": 58,
   "id": "indie-computer",
   "metadata": {},
   "outputs": [
    {
     "data": {
      "text/plain": [
       "array(['objects', 'faces'], dtype=object)"
      ]
     },
     "execution_count": 58,
     "metadata": {},
     "output_type": "execute_result"
    }
   ],
   "source": [
    "subj1['trial_cat'].unique()"
   ]
  },
  {
   "cell_type": "code",
   "execution_count": 59,
   "id": "double-indication",
   "metadata": {},
   "outputs": [
    {
     "data": {
      "text/plain": [
       "array(['P', 'A'], dtype=object)"
      ]
     },
     "execution_count": 59,
     "metadata": {},
     "output_type": "execute_result"
    }
   ],
   "source": [
    "subj1['trial_resp'].unique()"
   ]
  },
  {
   "cell_type": "code",
   "execution_count": 60,
   "id": "vanilla-brain",
   "metadata": {},
   "outputs": [
    {
     "data": {
      "text/plain": [
       "array(['P'], dtype=object)"
      ]
     },
     "execution_count": 60,
     "metadata": {},
     "output_type": "execute_result"
    }
   ],
   "source": [
    "subj1[subj1['VSNT_EX']==1]['trial_resp'].unique()"
   ]
  },
  {
   "cell_type": "code",
   "execution_count": 61,
   "id": "electronic-vermont",
   "metadata": {},
   "outputs": [
    {
     "data": {
      "text/plain": [
       "array(['big', 'female', 'small', 'male'], dtype=object)"
      ]
     },
     "execution_count": 61,
     "metadata": {},
     "output_type": "execute_result"
    }
   ],
   "source": [
    "subj1['trial_atr'].unique()"
   ]
  },
  {
   "cell_type": "code",
   "execution_count": 62,
   "id": "surprised-newcastle",
   "metadata": {},
   "outputs": [
    {
     "data": {
      "text/plain": [
       "array(['VS'], dtype=object)"
      ]
     },
     "execution_count": 62,
     "metadata": {},
     "output_type": "execute_result"
    }
   ],
   "source": [
    "subj1[subj1['VSNT_EX']==1]['trial_type'].unique()"
   ]
  },
  {
   "cell_type": "code",
   "execution_count": 63,
   "id": "liquid-directory",
   "metadata": {},
   "outputs": [
    {
     "data": {
      "text/plain": [
       "array(['O', 'F', 'I'], dtype=object)"
      ]
     },
     "execution_count": 63,
     "metadata": {},
     "output_type": "execute_result"
    }
   ],
   "source": [
    "subj1['trial_cattype'].unique()"
   ]
  },
  {
   "cell_type": "code",
   "execution_count": 64,
   "id": "nuclear-picking",
   "metadata": {},
   "outputs": [
    {
     "data": {
      "text/plain": [
       "102"
      ]
     },
     "execution_count": 64,
     "metadata": {},
     "output_type": "execute_result"
    }
   ],
   "source": [
    "len(subj1['trial_number'].unique())"
   ]
  },
  {
   "cell_type": "code",
   "execution_count": 65,
   "id": "micro-tenant",
   "metadata": {},
   "outputs": [
    {
     "data": {
      "text/plain": [
       "array([  2,   3,   4,   5,   9,  11,  13,  15,  16,  18,  21,  22,  23,\n",
       "        25,  28,  29,  37,  38,  40,  44,  45,  47,  49,  51,  52,  54,\n",
       "        55,  56,  63,  64,  66,  67,  71,  76,  78,  79,  80,  81,  84,\n",
       "        85,  86,  87,  88,  94,  96,  98,  99, 101, 102, 103, 104, 112,\n",
       "       116, 118, 119, 120, 121, 122, 127, 128, 133, 136, 139, 141, 147,\n",
       "       148, 149, 151, 152, 153, 154, 155, 156, 161, 162, 163, 168, 169,\n",
       "       170, 171, 173, 178, 180, 181, 184, 186, 187, 188, 189, 190, 191,\n",
       "       192, 193, 197, 199, 200, 201, 202, 203, 207, 209, 213])"
      ]
     },
     "execution_count": 65,
     "metadata": {},
     "output_type": "execute_result"
    }
   ],
   "source": [
    "subj1['trial_number'].unique()"
   ]
  },
  {
   "cell_type": "code",
   "execution_count": 66,
   "id": "developmental-insider",
   "metadata": {},
   "outputs": [],
   "source": [
    "#exploro trials que están acá y no en 16subj_VSNTpostvsEX_for_unfold_GlobalStandarisedCenteredRank.csv"
   ]
  },
  {
   "cell_type": "code",
   "execution_count": 67,
   "id": "secret-letter",
   "metadata": {},
   "outputs": [
    {
     "data": {
      "text/html": [
       "<div>\n",
       "<style scoped>\n",
       "    .dataframe tbody tr th:only-of-type {\n",
       "        vertical-align: middle;\n",
       "    }\n",
       "\n",
       "    .dataframe tbody tr th {\n",
       "        vertical-align: top;\n",
       "    }\n",
       "\n",
       "    .dataframe thead th {\n",
       "        text-align: right;\n",
       "    }\n",
       "</style>\n",
       "<table border=\"1\" class=\"dataframe\">\n",
       "  <thead>\n",
       "    <tr style=\"text-align: right;\">\n",
       "      <th></th>\n",
       "      <th>refix</th>\n",
       "      <th>pretarget</th>\n",
       "      <th>multifix</th>\n",
       "      <th>urevent</th>\n",
       "      <th>tonset</th>\n",
       "      <th>dur_added</th>\n",
       "      <th>rank</th>\n",
       "      <th>first_rank</th>\n",
       "      <th>stposrel</th>\n",
       "      <th>stposabs</th>\n",
       "      <th>...</th>\n",
       "      <th>trial_number</th>\n",
       "      <th>trial_subject</th>\n",
       "      <th>trial_bgn_latency</th>\n",
       "      <th>Nrank</th>\n",
       "      <th>N_subj_rank</th>\n",
       "      <th>NC_subj_rank</th>\n",
       "      <th>NC_rank</th>\n",
       "      <th>TS</th>\n",
       "      <th>VSNT_EX</th>\n",
       "      <th>isEX</th>\n",
       "    </tr>\n",
       "  </thead>\n",
       "  <tbody>\n",
       "    <tr>\n",
       "      <th>196</th>\n",
       "      <td>0</td>\n",
       "      <td>1</td>\n",
       "      <td>0</td>\n",
       "      <td>23759</td>\n",
       "      <td>0.875000</td>\n",
       "      <td>0.201172</td>\n",
       "      <td>2</td>\n",
       "      <td>1</td>\n",
       "      <td>5</td>\n",
       "      <td>25</td>\n",
       "      <td>...</td>\n",
       "      <td>23</td>\n",
       "      <td>E01</td>\n",
       "      <td>92.583984</td>\n",
       "      <td>0.0</td>\n",
       "      <td>0.000000</td>\n",
       "      <td>-0.500000</td>\n",
       "      <td>-0.5</td>\n",
       "      <td>1.0</td>\n",
       "      <td>1.0</td>\n",
       "      <td>0.0</td>\n",
       "    </tr>\n",
       "    <tr>\n",
       "      <th>197</th>\n",
       "      <td>0</td>\n",
       "      <td>1</td>\n",
       "      <td>0</td>\n",
       "      <td>23760</td>\n",
       "      <td>1.140625</td>\n",
       "      <td>0.169922</td>\n",
       "      <td>3</td>\n",
       "      <td>1</td>\n",
       "      <td>3</td>\n",
       "      <td>14</td>\n",
       "      <td>...</td>\n",
       "      <td>23</td>\n",
       "      <td>E01</td>\n",
       "      <td>92.583984</td>\n",
       "      <td>0.2</td>\n",
       "      <td>0.090909</td>\n",
       "      <td>-0.409091</td>\n",
       "      <td>-0.3</td>\n",
       "      <td>1.0</td>\n",
       "      <td>1.0</td>\n",
       "      <td>0.0</td>\n",
       "    </tr>\n",
       "    <tr>\n",
       "      <th>198</th>\n",
       "      <td>0</td>\n",
       "      <td>1</td>\n",
       "      <td>0</td>\n",
       "      <td>23761</td>\n",
       "      <td>1.357422</td>\n",
       "      <td>0.140625</td>\n",
       "      <td>4</td>\n",
       "      <td>1</td>\n",
       "      <td>8</td>\n",
       "      <td>31</td>\n",
       "      <td>...</td>\n",
       "      <td>23</td>\n",
       "      <td>E01</td>\n",
       "      <td>92.583984</td>\n",
       "      <td>0.4</td>\n",
       "      <td>0.181818</td>\n",
       "      <td>-0.318182</td>\n",
       "      <td>-0.1</td>\n",
       "      <td>1.0</td>\n",
       "      <td>1.0</td>\n",
       "      <td>0.0</td>\n",
       "    </tr>\n",
       "    <tr>\n",
       "      <th>199</th>\n",
       "      <td>0</td>\n",
       "      <td>1</td>\n",
       "      <td>0</td>\n",
       "      <td>23762</td>\n",
       "      <td>1.564453</td>\n",
       "      <td>0.140625</td>\n",
       "      <td>5</td>\n",
       "      <td>0</td>\n",
       "      <td>1</td>\n",
       "      <td>4</td>\n",
       "      <td>...</td>\n",
       "      <td>23</td>\n",
       "      <td>E01</td>\n",
       "      <td>92.583984</td>\n",
       "      <td>0.6</td>\n",
       "      <td>0.272727</td>\n",
       "      <td>-0.227273</td>\n",
       "      <td>0.1</td>\n",
       "      <td>1.0</td>\n",
       "      <td>1.0</td>\n",
       "      <td>0.0</td>\n",
       "    </tr>\n",
       "    <tr>\n",
       "      <th>200</th>\n",
       "      <td>0</td>\n",
       "      <td>1</td>\n",
       "      <td>0</td>\n",
       "      <td>23764</td>\n",
       "      <td>2.050781</td>\n",
       "      <td>0.187500</td>\n",
       "      <td>6</td>\n",
       "      <td>0</td>\n",
       "      <td>11</td>\n",
       "      <td>46</td>\n",
       "      <td>...</td>\n",
       "      <td>23</td>\n",
       "      <td>E01</td>\n",
       "      <td>92.583984</td>\n",
       "      <td>0.8</td>\n",
       "      <td>0.363636</td>\n",
       "      <td>-0.136364</td>\n",
       "      <td>0.3</td>\n",
       "      <td>1.0</td>\n",
       "      <td>1.0</td>\n",
       "      <td>0.0</td>\n",
       "    </tr>\n",
       "    <tr>\n",
       "      <th>201</th>\n",
       "      <td>0</td>\n",
       "      <td>1</td>\n",
       "      <td>0</td>\n",
       "      <td>23765</td>\n",
       "      <td>2.287109</td>\n",
       "      <td>0.113281</td>\n",
       "      <td>7</td>\n",
       "      <td>0</td>\n",
       "      <td>10</td>\n",
       "      <td>38</td>\n",
       "      <td>...</td>\n",
       "      <td>23</td>\n",
       "      <td>E01</td>\n",
       "      <td>92.583984</td>\n",
       "      <td>1.0</td>\n",
       "      <td>0.454545</td>\n",
       "      <td>-0.045455</td>\n",
       "      <td>0.5</td>\n",
       "      <td>1.0</td>\n",
       "      <td>1.0</td>\n",
       "      <td>0.0</td>\n",
       "    </tr>\n",
       "  </tbody>\n",
       "</table>\n",
       "<p>6 rows × 34 columns</p>\n",
       "</div>"
      ],
      "text/plain": [
       "     refix  pretarget  multifix  urevent    tonset  dur_added  rank  \\\n",
       "196      0          1         0    23759  0.875000   0.201172     2   \n",
       "197      0          1         0    23760  1.140625   0.169922     3   \n",
       "198      0          1         0    23761  1.357422   0.140625     4   \n",
       "199      0          1         0    23762  1.564453   0.140625     5   \n",
       "200      0          1         0    23764  2.050781   0.187500     6   \n",
       "201      0          1         0    23765  2.287109   0.113281     7   \n",
       "\n",
       "     first_rank  stposrel  stposabs  ...  trial_number  trial_subject  \\\n",
       "196           1         5        25  ...            23            E01   \n",
       "197           1         3        14  ...            23            E01   \n",
       "198           1         8        31  ...            23            E01   \n",
       "199           0         1         4  ...            23            E01   \n",
       "200           0        11        46  ...            23            E01   \n",
       "201           0        10        38  ...            23            E01   \n",
       "\n",
       "     trial_bgn_latency  Nrank  N_subj_rank NC_subj_rank NC_rank   TS  VSNT_EX  \\\n",
       "196          92.583984    0.0     0.000000    -0.500000    -0.5  1.0      1.0   \n",
       "197          92.583984    0.2     0.090909    -0.409091    -0.3  1.0      1.0   \n",
       "198          92.583984    0.4     0.181818    -0.318182    -0.1  1.0      1.0   \n",
       "199          92.583984    0.6     0.272727    -0.227273     0.1  1.0      1.0   \n",
       "200          92.583984    0.8     0.363636    -0.136364     0.3  1.0      1.0   \n",
       "201          92.583984    1.0     0.454545    -0.045455     0.5  1.0      1.0   \n",
       "\n",
       "    isEX  \n",
       "196  0.0  \n",
       "197  0.0  \n",
       "198  0.0  \n",
       "199  0.0  \n",
       "200  0.0  \n",
       "201  0.0  \n",
       "\n",
       "[6 rows x 34 columns]"
      ]
     },
     "execution_count": 67,
     "metadata": {},
     "output_type": "execute_result"
    }
   ],
   "source": [
    "subj1[subj1['trial_number']==23]"
   ]
  },
  {
   "cell_type": "code",
   "execution_count": 68,
   "id": "extreme-morocco",
   "metadata": {},
   "outputs": [
    {
     "data": {
      "text/html": [
       "<div>\n",
       "<style scoped>\n",
       "    .dataframe tbody tr th:only-of-type {\n",
       "        vertical-align: middle;\n",
       "    }\n",
       "\n",
       "    .dataframe tbody tr th {\n",
       "        vertical-align: top;\n",
       "    }\n",
       "\n",
       "    .dataframe thead th {\n",
       "        text-align: right;\n",
       "    }\n",
       "</style>\n",
       "<table border=\"1\" class=\"dataframe\">\n",
       "  <thead>\n",
       "    <tr style=\"text-align: right;\">\n",
       "      <th></th>\n",
       "      <th>refix</th>\n",
       "      <th>pretarget</th>\n",
       "      <th>multifix</th>\n",
       "      <th>urevent</th>\n",
       "      <th>tonset</th>\n",
       "      <th>dur_added</th>\n",
       "      <th>rank</th>\n",
       "      <th>first_rank</th>\n",
       "      <th>stposrel</th>\n",
       "      <th>stposabs</th>\n",
       "      <th>...</th>\n",
       "      <th>trial_number</th>\n",
       "      <th>trial_subject</th>\n",
       "      <th>trial_bgn_latency</th>\n",
       "      <th>Nrank</th>\n",
       "      <th>N_subj_rank</th>\n",
       "      <th>NC_subj_rank</th>\n",
       "      <th>NC_rank</th>\n",
       "      <th>TS</th>\n",
       "      <th>VSNT_EX</th>\n",
       "      <th>isEX</th>\n",
       "    </tr>\n",
       "  </thead>\n",
       "  <tbody>\n",
       "    <tr>\n",
       "      <th>437</th>\n",
       "      <td>0</td>\n",
       "      <td>1</td>\n",
       "      <td>0</td>\n",
       "      <td>24500</td>\n",
       "      <td>0.691406</td>\n",
       "      <td>0.128906</td>\n",
       "      <td>2</td>\n",
       "      <td>1</td>\n",
       "      <td>9</td>\n",
       "      <td>49</td>\n",
       "      <td>...</td>\n",
       "      <td>52</td>\n",
       "      <td>E01</td>\n",
       "      <td>214.361328</td>\n",
       "      <td>0.0</td>\n",
       "      <td>0.0</td>\n",
       "      <td>-0.5</td>\n",
       "      <td>-0.5</td>\n",
       "      <td>1.0</td>\n",
       "      <td>1.0</td>\n",
       "      <td>0.0</td>\n",
       "    </tr>\n",
       "  </tbody>\n",
       "</table>\n",
       "<p>1 rows × 34 columns</p>\n",
       "</div>"
      ],
      "text/plain": [
       "     refix  pretarget  multifix  urevent    tonset  dur_added  rank  \\\n",
       "437      0          1         0    24500  0.691406   0.128906     2   \n",
       "\n",
       "     first_rank  stposrel  stposabs  ...  trial_number  trial_subject  \\\n",
       "437           1         9        49  ...            52            E01   \n",
       "\n",
       "     trial_bgn_latency  Nrank  N_subj_rank NC_subj_rank NC_rank   TS  VSNT_EX  \\\n",
       "437         214.361328    0.0          0.0         -0.5    -0.5  1.0      1.0   \n",
       "\n",
       "    isEX  \n",
       "437  0.0  \n",
       "\n",
       "[1 rows x 34 columns]"
      ]
     },
     "execution_count": 68,
     "metadata": {},
     "output_type": "execute_result"
    }
   ],
   "source": [
    "subj1[subj1['trial_number']==52]"
   ]
  },
  {
   "cell_type": "code",
   "execution_count": 69,
   "id": "productive-connectivity",
   "metadata": {},
   "outputs": [
    {
     "data": {
      "text/html": [
       "<div>\n",
       "<style scoped>\n",
       "    .dataframe tbody tr th:only-of-type {\n",
       "        vertical-align: middle;\n",
       "    }\n",
       "\n",
       "    .dataframe tbody tr th {\n",
       "        vertical-align: top;\n",
       "    }\n",
       "\n",
       "    .dataframe thead th {\n",
       "        text-align: right;\n",
       "    }\n",
       "</style>\n",
       "<table border=\"1\" class=\"dataframe\">\n",
       "  <thead>\n",
       "    <tr style=\"text-align: right;\">\n",
       "      <th></th>\n",
       "      <th>refix</th>\n",
       "      <th>pretarget</th>\n",
       "      <th>multifix</th>\n",
       "      <th>urevent</th>\n",
       "      <th>tonset</th>\n",
       "      <th>dur_added</th>\n",
       "      <th>rank</th>\n",
       "      <th>first_rank</th>\n",
       "      <th>stposrel</th>\n",
       "      <th>stposabs</th>\n",
       "      <th>...</th>\n",
       "      <th>trial_number</th>\n",
       "      <th>trial_subject</th>\n",
       "      <th>trial_bgn_latency</th>\n",
       "      <th>Nrank</th>\n",
       "      <th>N_subj_rank</th>\n",
       "      <th>NC_subj_rank</th>\n",
       "      <th>NC_rank</th>\n",
       "      <th>TS</th>\n",
       "      <th>VSNT_EX</th>\n",
       "      <th>isEX</th>\n",
       "    </tr>\n",
       "  </thead>\n",
       "  <tbody>\n",
       "    <tr>\n",
       "      <th>455</th>\n",
       "      <td>0</td>\n",
       "      <td>1</td>\n",
       "      <td>0</td>\n",
       "      <td>24560</td>\n",
       "      <td>0.804688</td>\n",
       "      <td>0.248047</td>\n",
       "      <td>2</td>\n",
       "      <td>1</td>\n",
       "      <td>13</td>\n",
       "      <td>57</td>\n",
       "      <td>...</td>\n",
       "      <td>54</td>\n",
       "      <td>E01</td>\n",
       "      <td>222.759766</td>\n",
       "      <td>0.0</td>\n",
       "      <td>0.000000</td>\n",
       "      <td>-0.500000</td>\n",
       "      <td>-0.5</td>\n",
       "      <td>1.0</td>\n",
       "      <td>1.0</td>\n",
       "      <td>0.0</td>\n",
       "    </tr>\n",
       "    <tr>\n",
       "      <th>457</th>\n",
       "      <td>0</td>\n",
       "      <td>1</td>\n",
       "      <td>0</td>\n",
       "      <td>24562</td>\n",
       "      <td>1.324219</td>\n",
       "      <td>0.146484</td>\n",
       "      <td>4</td>\n",
       "      <td>1</td>\n",
       "      <td>3</td>\n",
       "      <td>12</td>\n",
       "      <td>...</td>\n",
       "      <td>54</td>\n",
       "      <td>E01</td>\n",
       "      <td>222.759766</td>\n",
       "      <td>1.0</td>\n",
       "      <td>0.181818</td>\n",
       "      <td>-0.318182</td>\n",
       "      <td>0.5</td>\n",
       "      <td>1.0</td>\n",
       "      <td>1.0</td>\n",
       "      <td>0.0</td>\n",
       "    </tr>\n",
       "  </tbody>\n",
       "</table>\n",
       "<p>2 rows × 34 columns</p>\n",
       "</div>"
      ],
      "text/plain": [
       "     refix  pretarget  multifix  urevent    tonset  dur_added  rank  \\\n",
       "455      0          1         0    24560  0.804688   0.248047     2   \n",
       "457      0          1         0    24562  1.324219   0.146484     4   \n",
       "\n",
       "     first_rank  stposrel  stposabs  ...  trial_number  trial_subject  \\\n",
       "455           1        13        57  ...            54            E01   \n",
       "457           1         3        12  ...            54            E01   \n",
       "\n",
       "     trial_bgn_latency  Nrank  N_subj_rank NC_subj_rank NC_rank   TS  VSNT_EX  \\\n",
       "455         222.759766    0.0     0.000000    -0.500000    -0.5  1.0      1.0   \n",
       "457         222.759766    1.0     0.181818    -0.318182     0.5  1.0      1.0   \n",
       "\n",
       "    isEX  \n",
       "455  0.0  \n",
       "457  0.0  \n",
       "\n",
       "[2 rows x 34 columns]"
      ]
     },
     "execution_count": 69,
     "metadata": {},
     "output_type": "execute_result"
    }
   ],
   "source": [
    "subj1[subj1['trial_number']==54]"
   ]
  },
  {
   "cell_type": "code",
   "execution_count": 70,
   "id": "proved-standard",
   "metadata": {},
   "outputs": [
    {
     "data": {
      "text/html": [
       "<div>\n",
       "<style scoped>\n",
       "    .dataframe tbody tr th:only-of-type {\n",
       "        vertical-align: middle;\n",
       "    }\n",
       "\n",
       "    .dataframe tbody tr th {\n",
       "        vertical-align: top;\n",
       "    }\n",
       "\n",
       "    .dataframe thead th {\n",
       "        text-align: right;\n",
       "    }\n",
       "</style>\n",
       "<table border=\"1\" class=\"dataframe\">\n",
       "  <thead>\n",
       "    <tr style=\"text-align: right;\">\n",
       "      <th></th>\n",
       "      <th>refix</th>\n",
       "      <th>pretarget</th>\n",
       "      <th>multifix</th>\n",
       "      <th>urevent</th>\n",
       "      <th>tonset</th>\n",
       "      <th>dur_added</th>\n",
       "      <th>rank</th>\n",
       "      <th>first_rank</th>\n",
       "      <th>stposrel</th>\n",
       "      <th>stposabs</th>\n",
       "      <th>...</th>\n",
       "      <th>trial_number</th>\n",
       "      <th>trial_subject</th>\n",
       "      <th>trial_bgn_latency</th>\n",
       "      <th>Nrank</th>\n",
       "      <th>N_subj_rank</th>\n",
       "      <th>NC_subj_rank</th>\n",
       "      <th>NC_rank</th>\n",
       "      <th>TS</th>\n",
       "      <th>VSNT_EX</th>\n",
       "      <th>isEX</th>\n",
       "    </tr>\n",
       "  </thead>\n",
       "  <tbody>\n",
       "    <tr>\n",
       "      <th>460</th>\n",
       "      <td>0</td>\n",
       "      <td>1</td>\n",
       "      <td>0</td>\n",
       "      <td>24577</td>\n",
       "      <td>0.539062</td>\n",
       "      <td>0.363281</td>\n",
       "      <td>2</td>\n",
       "      <td>1</td>\n",
       "      <td>13</td>\n",
       "      <td>56</td>\n",
       "      <td>...</td>\n",
       "      <td>55</td>\n",
       "      <td>E01</td>\n",
       "      <td>226.958984</td>\n",
       "      <td>0.0</td>\n",
       "      <td>0.0</td>\n",
       "      <td>-0.5</td>\n",
       "      <td>-0.5</td>\n",
       "      <td>1.0</td>\n",
       "      <td>1.0</td>\n",
       "      <td>0.0</td>\n",
       "    </tr>\n",
       "  </tbody>\n",
       "</table>\n",
       "<p>1 rows × 34 columns</p>\n",
       "</div>"
      ],
      "text/plain": [
       "     refix  pretarget  multifix  urevent    tonset  dur_added  rank  \\\n",
       "460      0          1         0    24577  0.539062   0.363281     2   \n",
       "\n",
       "     first_rank  stposrel  stposabs  ...  trial_number  trial_subject  \\\n",
       "460           1        13        56  ...            55            E01   \n",
       "\n",
       "     trial_bgn_latency  Nrank  N_subj_rank NC_subj_rank NC_rank   TS  VSNT_EX  \\\n",
       "460         226.958984    0.0          0.0         -0.5    -0.5  1.0      1.0   \n",
       "\n",
       "    isEX  \n",
       "460  0.0  \n",
       "\n",
       "[1 rows x 34 columns]"
      ]
     },
     "execution_count": 70,
     "metadata": {},
     "output_type": "execute_result"
    }
   ],
   "source": [
    "subj1[subj1['trial_number']==55]"
   ]
  },
  {
   "cell_type": "code",
   "execution_count": 71,
   "id": "broke-struggle",
   "metadata": {},
   "outputs": [
    {
     "data": {
      "text/html": [
       "<div>\n",
       "<style scoped>\n",
       "    .dataframe tbody tr th:only-of-type {\n",
       "        vertical-align: middle;\n",
       "    }\n",
       "\n",
       "    .dataframe tbody tr th {\n",
       "        vertical-align: top;\n",
       "    }\n",
       "\n",
       "    .dataframe thead th {\n",
       "        text-align: right;\n",
       "    }\n",
       "</style>\n",
       "<table border=\"1\" class=\"dataframe\">\n",
       "  <thead>\n",
       "    <tr style=\"text-align: right;\">\n",
       "      <th></th>\n",
       "      <th>refix</th>\n",
       "      <th>pretarget</th>\n",
       "      <th>multifix</th>\n",
       "      <th>urevent</th>\n",
       "      <th>tonset</th>\n",
       "      <th>dur_added</th>\n",
       "      <th>rank</th>\n",
       "      <th>first_rank</th>\n",
       "      <th>stposrel</th>\n",
       "      <th>stposabs</th>\n",
       "      <th>...</th>\n",
       "      <th>trial_number</th>\n",
       "      <th>trial_subject</th>\n",
       "      <th>trial_bgn_latency</th>\n",
       "      <th>Nrank</th>\n",
       "      <th>N_subj_rank</th>\n",
       "      <th>NC_subj_rank</th>\n",
       "      <th>NC_rank</th>\n",
       "      <th>TS</th>\n",
       "      <th>VSNT_EX</th>\n",
       "      <th>isEX</th>\n",
       "    </tr>\n",
       "  </thead>\n",
       "  <tbody>\n",
       "    <tr>\n",
       "      <th>675</th>\n",
       "      <td>0</td>\n",
       "      <td>1</td>\n",
       "      <td>1</td>\n",
       "      <td>25591</td>\n",
       "      <td>0.531250</td>\n",
       "      <td>0.314453</td>\n",
       "      <td>2</td>\n",
       "      <td>1</td>\n",
       "      <td>12</td>\n",
       "      <td>65</td>\n",
       "      <td>...</td>\n",
       "      <td>86</td>\n",
       "      <td>E01</td>\n",
       "      <td>357.134766</td>\n",
       "      <td>0.000000</td>\n",
       "      <td>0.000000</td>\n",
       "      <td>-0.500000</td>\n",
       "      <td>-0.500000</td>\n",
       "      <td>1.0</td>\n",
       "      <td>1.0</td>\n",
       "      <td>0.0</td>\n",
       "    </tr>\n",
       "    <tr>\n",
       "      <th>676</th>\n",
       "      <td>0</td>\n",
       "      <td>1</td>\n",
       "      <td>0</td>\n",
       "      <td>25594</td>\n",
       "      <td>1.564453</td>\n",
       "      <td>0.294922</td>\n",
       "      <td>3</td>\n",
       "      <td>1</td>\n",
       "      <td>13</td>\n",
       "      <td>67</td>\n",
       "      <td>...</td>\n",
       "      <td>86</td>\n",
       "      <td>E01</td>\n",
       "      <td>357.134766</td>\n",
       "      <td>0.333333</td>\n",
       "      <td>0.090909</td>\n",
       "      <td>-0.409091</td>\n",
       "      <td>-0.166667</td>\n",
       "      <td>1.0</td>\n",
       "      <td>1.0</td>\n",
       "      <td>0.0</td>\n",
       "    </tr>\n",
       "    <tr>\n",
       "      <th>677</th>\n",
       "      <td>0</td>\n",
       "      <td>1</td>\n",
       "      <td>0</td>\n",
       "      <td>25595</td>\n",
       "      <td>1.937500</td>\n",
       "      <td>0.140625</td>\n",
       "      <td>4</td>\n",
       "      <td>1</td>\n",
       "      <td>10</td>\n",
       "      <td>60</td>\n",
       "      <td>...</td>\n",
       "      <td>86</td>\n",
       "      <td>E01</td>\n",
       "      <td>357.134766</td>\n",
       "      <td>0.666667</td>\n",
       "      <td>0.181818</td>\n",
       "      <td>-0.318182</td>\n",
       "      <td>0.166667</td>\n",
       "      <td>1.0</td>\n",
       "      <td>1.0</td>\n",
       "      <td>0.0</td>\n",
       "    </tr>\n",
       "    <tr>\n",
       "      <th>678</th>\n",
       "      <td>0</td>\n",
       "      <td>1</td>\n",
       "      <td>0</td>\n",
       "      <td>25596</td>\n",
       "      <td>2.152344</td>\n",
       "      <td>0.126953</td>\n",
       "      <td>5</td>\n",
       "      <td>0</td>\n",
       "      <td>4</td>\n",
       "      <td>24</td>\n",
       "      <td>...</td>\n",
       "      <td>86</td>\n",
       "      <td>E01</td>\n",
       "      <td>357.134766</td>\n",
       "      <td>1.000000</td>\n",
       "      <td>0.272727</td>\n",
       "      <td>-0.227273</td>\n",
       "      <td>0.500000</td>\n",
       "      <td>1.0</td>\n",
       "      <td>1.0</td>\n",
       "      <td>0.0</td>\n",
       "    </tr>\n",
       "  </tbody>\n",
       "</table>\n",
       "<p>4 rows × 34 columns</p>\n",
       "</div>"
      ],
      "text/plain": [
       "     refix  pretarget  multifix  urevent    tonset  dur_added  rank  \\\n",
       "675      0          1         1    25591  0.531250   0.314453     2   \n",
       "676      0          1         0    25594  1.564453   0.294922     3   \n",
       "677      0          1         0    25595  1.937500   0.140625     4   \n",
       "678      0          1         0    25596  2.152344   0.126953     5   \n",
       "\n",
       "     first_rank  stposrel  stposabs  ...  trial_number  trial_subject  \\\n",
       "675           1        12        65  ...            86            E01   \n",
       "676           1        13        67  ...            86            E01   \n",
       "677           1        10        60  ...            86            E01   \n",
       "678           0         4        24  ...            86            E01   \n",
       "\n",
       "     trial_bgn_latency     Nrank  N_subj_rank NC_subj_rank   NC_rank   TS  \\\n",
       "675         357.134766  0.000000     0.000000    -0.500000 -0.500000  1.0   \n",
       "676         357.134766  0.333333     0.090909    -0.409091 -0.166667  1.0   \n",
       "677         357.134766  0.666667     0.181818    -0.318182  0.166667  1.0   \n",
       "678         357.134766  1.000000     0.272727    -0.227273  0.500000  1.0   \n",
       "\n",
       "     VSNT_EX isEX  \n",
       "675      1.0  0.0  \n",
       "676      1.0  0.0  \n",
       "677      1.0  0.0  \n",
       "678      1.0  0.0  \n",
       "\n",
       "[4 rows x 34 columns]"
      ]
     },
     "execution_count": 71,
     "metadata": {},
     "output_type": "execute_result"
    }
   ],
   "source": [
    "subj1[subj1['trial_number']==86]"
   ]
  },
  {
   "cell_type": "code",
   "execution_count": 72,
   "id": "joint-influence",
   "metadata": {},
   "outputs": [
    {
     "data": {
      "text/html": [
       "<div>\n",
       "<style scoped>\n",
       "    .dataframe tbody tr th:only-of-type {\n",
       "        vertical-align: middle;\n",
       "    }\n",
       "\n",
       "    .dataframe tbody tr th {\n",
       "        vertical-align: top;\n",
       "    }\n",
       "\n",
       "    .dataframe thead th {\n",
       "        text-align: right;\n",
       "    }\n",
       "</style>\n",
       "<table border=\"1\" class=\"dataframe\">\n",
       "  <thead>\n",
       "    <tr style=\"text-align: right;\">\n",
       "      <th></th>\n",
       "      <th>refix</th>\n",
       "      <th>pretarget</th>\n",
       "      <th>multifix</th>\n",
       "      <th>urevent</th>\n",
       "      <th>tonset</th>\n",
       "      <th>dur_added</th>\n",
       "      <th>rank</th>\n",
       "      <th>first_rank</th>\n",
       "      <th>stposrel</th>\n",
       "      <th>stposabs</th>\n",
       "      <th>...</th>\n",
       "      <th>trial_number</th>\n",
       "      <th>trial_subject</th>\n",
       "      <th>trial_bgn_latency</th>\n",
       "      <th>Nrank</th>\n",
       "      <th>N_subj_rank</th>\n",
       "      <th>NC_subj_rank</th>\n",
       "      <th>NC_rank</th>\n",
       "      <th>TS</th>\n",
       "      <th>VSNT_EX</th>\n",
       "      <th>isEX</th>\n",
       "    </tr>\n",
       "  </thead>\n",
       "  <tbody>\n",
       "    <tr>\n",
       "      <th>1408</th>\n",
       "      <td>0</td>\n",
       "      <td>1</td>\n",
       "      <td>0</td>\n",
       "      <td>28532</td>\n",
       "      <td>0.814453</td>\n",
       "      <td>0.140625</td>\n",
       "      <td>2</td>\n",
       "      <td>1</td>\n",
       "      <td>3</td>\n",
       "      <td>10</td>\n",
       "      <td>...</td>\n",
       "      <td>190</td>\n",
       "      <td>E01</td>\n",
       "      <td>793.853516</td>\n",
       "      <td>0.000000</td>\n",
       "      <td>0.000000</td>\n",
       "      <td>-0.500000</td>\n",
       "      <td>-0.500000</td>\n",
       "      <td>1.0</td>\n",
       "      <td>1.0</td>\n",
       "      <td>0.0</td>\n",
       "    </tr>\n",
       "    <tr>\n",
       "      <th>1409</th>\n",
       "      <td>0</td>\n",
       "      <td>1</td>\n",
       "      <td>0</td>\n",
       "      <td>28533</td>\n",
       "      <td>1.015625</td>\n",
       "      <td>0.250000</td>\n",
       "      <td>3</td>\n",
       "      <td>1</td>\n",
       "      <td>8</td>\n",
       "      <td>29</td>\n",
       "      <td>...</td>\n",
       "      <td>190</td>\n",
       "      <td>E01</td>\n",
       "      <td>793.853516</td>\n",
       "      <td>0.166667</td>\n",
       "      <td>0.090909</td>\n",
       "      <td>-0.409091</td>\n",
       "      <td>-0.333333</td>\n",
       "      <td>1.0</td>\n",
       "      <td>1.0</td>\n",
       "      <td>0.0</td>\n",
       "    </tr>\n",
       "    <tr>\n",
       "      <th>1410</th>\n",
       "      <td>0</td>\n",
       "      <td>1</td>\n",
       "      <td>1</td>\n",
       "      <td>28534</td>\n",
       "      <td>1.322266</td>\n",
       "      <td>0.316406</td>\n",
       "      <td>4</td>\n",
       "      <td>1</td>\n",
       "      <td>10</td>\n",
       "      <td>39</td>\n",
       "      <td>...</td>\n",
       "      <td>190</td>\n",
       "      <td>E01</td>\n",
       "      <td>793.853516</td>\n",
       "      <td>0.333333</td>\n",
       "      <td>0.181818</td>\n",
       "      <td>-0.318182</td>\n",
       "      <td>-0.166667</td>\n",
       "      <td>1.0</td>\n",
       "      <td>1.0</td>\n",
       "      <td>0.0</td>\n",
       "    </tr>\n",
       "    <tr>\n",
       "      <th>1411</th>\n",
       "      <td>0</td>\n",
       "      <td>1</td>\n",
       "      <td>0</td>\n",
       "      <td>28537</td>\n",
       "      <td>2.316406</td>\n",
       "      <td>0.302734</td>\n",
       "      <td>5</td>\n",
       "      <td>0</td>\n",
       "      <td>1</td>\n",
       "      <td>4</td>\n",
       "      <td>...</td>\n",
       "      <td>190</td>\n",
       "      <td>E01</td>\n",
       "      <td>793.853516</td>\n",
       "      <td>0.500000</td>\n",
       "      <td>0.272727</td>\n",
       "      <td>-0.227273</td>\n",
       "      <td>0.000000</td>\n",
       "      <td>1.0</td>\n",
       "      <td>1.0</td>\n",
       "      <td>0.0</td>\n",
       "    </tr>\n",
       "    <tr>\n",
       "      <th>1412</th>\n",
       "      <td>0</td>\n",
       "      <td>1</td>\n",
       "      <td>0</td>\n",
       "      <td>28539</td>\n",
       "      <td>2.890625</td>\n",
       "      <td>0.250000</td>\n",
       "      <td>6</td>\n",
       "      <td>0</td>\n",
       "      <td>6</td>\n",
       "      <td>25</td>\n",
       "      <td>...</td>\n",
       "      <td>190</td>\n",
       "      <td>E01</td>\n",
       "      <td>793.853516</td>\n",
       "      <td>0.666667</td>\n",
       "      <td>0.363636</td>\n",
       "      <td>-0.136364</td>\n",
       "      <td>0.166667</td>\n",
       "      <td>1.0</td>\n",
       "      <td>1.0</td>\n",
       "      <td>0.0</td>\n",
       "    </tr>\n",
       "    <tr>\n",
       "      <th>1413</th>\n",
       "      <td>0</td>\n",
       "      <td>1</td>\n",
       "      <td>0</td>\n",
       "      <td>28540</td>\n",
       "      <td>3.212891</td>\n",
       "      <td>0.156250</td>\n",
       "      <td>7</td>\n",
       "      <td>0</td>\n",
       "      <td>13</td>\n",
       "      <td>61</td>\n",
       "      <td>...</td>\n",
       "      <td>190</td>\n",
       "      <td>E01</td>\n",
       "      <td>793.853516</td>\n",
       "      <td>0.833333</td>\n",
       "      <td>0.454545</td>\n",
       "      <td>-0.045455</td>\n",
       "      <td>0.333333</td>\n",
       "      <td>1.0</td>\n",
       "      <td>1.0</td>\n",
       "      <td>0.0</td>\n",
       "    </tr>\n",
       "    <tr>\n",
       "      <th>1414</th>\n",
       "      <td>0</td>\n",
       "      <td>1</td>\n",
       "      <td>0</td>\n",
       "      <td>28541</td>\n",
       "      <td>3.437500</td>\n",
       "      <td>0.101562</td>\n",
       "      <td>8</td>\n",
       "      <td>0</td>\n",
       "      <td>14</td>\n",
       "      <td>72</td>\n",
       "      <td>...</td>\n",
       "      <td>190</td>\n",
       "      <td>E01</td>\n",
       "      <td>793.853516</td>\n",
       "      <td>1.000000</td>\n",
       "      <td>0.545455</td>\n",
       "      <td>0.045455</td>\n",
       "      <td>0.500000</td>\n",
       "      <td>1.0</td>\n",
       "      <td>1.0</td>\n",
       "      <td>0.0</td>\n",
       "    </tr>\n",
       "  </tbody>\n",
       "</table>\n",
       "<p>7 rows × 34 columns</p>\n",
       "</div>"
      ],
      "text/plain": [
       "      refix  pretarget  multifix  urevent    tonset  dur_added  rank  \\\n",
       "1408      0          1         0    28532  0.814453   0.140625     2   \n",
       "1409      0          1         0    28533  1.015625   0.250000     3   \n",
       "1410      0          1         1    28534  1.322266   0.316406     4   \n",
       "1411      0          1         0    28537  2.316406   0.302734     5   \n",
       "1412      0          1         0    28539  2.890625   0.250000     6   \n",
       "1413      0          1         0    28540  3.212891   0.156250     7   \n",
       "1414      0          1         0    28541  3.437500   0.101562     8   \n",
       "\n",
       "      first_rank  stposrel  stposabs  ...  trial_number  trial_subject  \\\n",
       "1408           1         3        10  ...           190            E01   \n",
       "1409           1         8        29  ...           190            E01   \n",
       "1410           1        10        39  ...           190            E01   \n",
       "1411           0         1         4  ...           190            E01   \n",
       "1412           0         6        25  ...           190            E01   \n",
       "1413           0        13        61  ...           190            E01   \n",
       "1414           0        14        72  ...           190            E01   \n",
       "\n",
       "      trial_bgn_latency     Nrank  N_subj_rank NC_subj_rank   NC_rank   TS  \\\n",
       "1408         793.853516  0.000000     0.000000    -0.500000 -0.500000  1.0   \n",
       "1409         793.853516  0.166667     0.090909    -0.409091 -0.333333  1.0   \n",
       "1410         793.853516  0.333333     0.181818    -0.318182 -0.166667  1.0   \n",
       "1411         793.853516  0.500000     0.272727    -0.227273  0.000000  1.0   \n",
       "1412         793.853516  0.666667     0.363636    -0.136364  0.166667  1.0   \n",
       "1413         793.853516  0.833333     0.454545    -0.045455  0.333333  1.0   \n",
       "1414         793.853516  1.000000     0.545455     0.045455  0.500000  1.0   \n",
       "\n",
       "      VSNT_EX isEX  \n",
       "1408      1.0  0.0  \n",
       "1409      1.0  0.0  \n",
       "1410      1.0  0.0  \n",
       "1411      1.0  0.0  \n",
       "1412      1.0  0.0  \n",
       "1413      1.0  0.0  \n",
       "1414      1.0  0.0  \n",
       "\n",
       "[7 rows x 34 columns]"
      ]
     },
     "execution_count": 72,
     "metadata": {},
     "output_type": "execute_result"
    }
   ],
   "source": [
    "subj1[subj1['trial_number']==190]"
   ]
  },
  {
   "cell_type": "code",
   "execution_count": 73,
   "id": "driven-bonus",
   "metadata": {},
   "outputs": [
    {
     "data": {
      "text/html": [
       "<div>\n",
       "<style scoped>\n",
       "    .dataframe tbody tr th:only-of-type {\n",
       "        vertical-align: middle;\n",
       "    }\n",
       "\n",
       "    .dataframe tbody tr th {\n",
       "        vertical-align: top;\n",
       "    }\n",
       "\n",
       "    .dataframe thead th {\n",
       "        text-align: right;\n",
       "    }\n",
       "</style>\n",
       "<table border=\"1\" class=\"dataframe\">\n",
       "  <thead>\n",
       "    <tr style=\"text-align: right;\">\n",
       "      <th></th>\n",
       "      <th>refix</th>\n",
       "      <th>pretarget</th>\n",
       "      <th>multifix</th>\n",
       "      <th>urevent</th>\n",
       "      <th>tonset</th>\n",
       "      <th>dur_added</th>\n",
       "      <th>rank</th>\n",
       "      <th>first_rank</th>\n",
       "      <th>stposrel</th>\n",
       "      <th>stposabs</th>\n",
       "      <th>...</th>\n",
       "      <th>trial_number</th>\n",
       "      <th>trial_subject</th>\n",
       "      <th>trial_bgn_latency</th>\n",
       "      <th>Nrank</th>\n",
       "      <th>N_subj_rank</th>\n",
       "      <th>NC_subj_rank</th>\n",
       "      <th>NC_rank</th>\n",
       "      <th>TS</th>\n",
       "      <th>VSNT_EX</th>\n",
       "      <th>isEX</th>\n",
       "    </tr>\n",
       "  </thead>\n",
       "  <tbody>\n",
       "    <tr>\n",
       "      <th>1496</th>\n",
       "      <td>0</td>\n",
       "      <td>1</td>\n",
       "      <td>0</td>\n",
       "      <td>28830</td>\n",
       "      <td>0.605469</td>\n",
       "      <td>0.185547</td>\n",
       "      <td>2</td>\n",
       "      <td>1</td>\n",
       "      <td>8</td>\n",
       "      <td>38</td>\n",
       "      <td>...</td>\n",
       "      <td>202</td>\n",
       "      <td>E01</td>\n",
       "      <td>844.244141</td>\n",
       "      <td>0.0</td>\n",
       "      <td>0.0</td>\n",
       "      <td>-0.5</td>\n",
       "      <td>-0.5</td>\n",
       "      <td>1.0</td>\n",
       "      <td>1.0</td>\n",
       "      <td>0.0</td>\n",
       "    </tr>\n",
       "  </tbody>\n",
       "</table>\n",
       "<p>1 rows × 34 columns</p>\n",
       "</div>"
      ],
      "text/plain": [
       "      refix  pretarget  multifix  urevent    tonset  dur_added  rank  \\\n",
       "1496      0          1         0    28830  0.605469   0.185547     2   \n",
       "\n",
       "      first_rank  stposrel  stposabs  ...  trial_number  trial_subject  \\\n",
       "1496           1         8        38  ...           202            E01   \n",
       "\n",
       "      trial_bgn_latency  Nrank  N_subj_rank NC_subj_rank NC_rank   TS  \\\n",
       "1496         844.244141    0.0          0.0         -0.5    -0.5  1.0   \n",
       "\n",
       "      VSNT_EX isEX  \n",
       "1496      1.0  0.0  \n",
       "\n",
       "[1 rows x 34 columns]"
      ]
     },
     "execution_count": 73,
     "metadata": {},
     "output_type": "execute_result"
    }
   ],
   "source": [
    "subj1[subj1['trial_number']==202]"
   ]
  },
  {
   "cell_type": "code",
   "execution_count": 74,
   "id": "blessed-pottery",
   "metadata": {},
   "outputs": [
    {
     "data": {
      "text/html": [
       "<div>\n",
       "<style scoped>\n",
       "    .dataframe tbody tr th:only-of-type {\n",
       "        vertical-align: middle;\n",
       "    }\n",
       "\n",
       "    .dataframe tbody tr th {\n",
       "        vertical-align: top;\n",
       "    }\n",
       "\n",
       "    .dataframe thead th {\n",
       "        text-align: right;\n",
       "    }\n",
       "</style>\n",
       "<table border=\"1\" class=\"dataframe\">\n",
       "  <thead>\n",
       "    <tr style=\"text-align: right;\">\n",
       "      <th></th>\n",
       "      <th>refix</th>\n",
       "      <th>pretarget</th>\n",
       "      <th>multifix</th>\n",
       "      <th>urevent</th>\n",
       "      <th>tonset</th>\n",
       "      <th>dur_added</th>\n",
       "      <th>rank</th>\n",
       "      <th>first_rank</th>\n",
       "      <th>stposrel</th>\n",
       "      <th>stposabs</th>\n",
       "      <th>...</th>\n",
       "      <th>trial_number</th>\n",
       "      <th>trial_subject</th>\n",
       "      <th>trial_bgn_latency</th>\n",
       "      <th>Nrank</th>\n",
       "      <th>N_subj_rank</th>\n",
       "      <th>NC_subj_rank</th>\n",
       "      <th>NC_rank</th>\n",
       "      <th>TS</th>\n",
       "      <th>VSNT_EX</th>\n",
       "      <th>isEX</th>\n",
       "    </tr>\n",
       "  </thead>\n",
       "  <tbody>\n",
       "    <tr>\n",
       "      <th>1519</th>\n",
       "      <td>0</td>\n",
       "      <td>1</td>\n",
       "      <td>1</td>\n",
       "      <td>28969</td>\n",
       "      <td>1.951172</td>\n",
       "      <td>0.166016</td>\n",
       "      <td>2</td>\n",
       "      <td>1</td>\n",
       "      <td>1</td>\n",
       "      <td>1</td>\n",
       "      <td>...</td>\n",
       "      <td>207</td>\n",
       "      <td>E01</td>\n",
       "      <td>865.240234</td>\n",
       "      <td>0.0</td>\n",
       "      <td>0.000000</td>\n",
       "      <td>-0.500000</td>\n",
       "      <td>-0.5</td>\n",
       "      <td>1.0</td>\n",
       "      <td>1.0</td>\n",
       "      <td>0.0</td>\n",
       "    </tr>\n",
       "    <tr>\n",
       "      <th>1520</th>\n",
       "      <td>0</td>\n",
       "      <td>1</td>\n",
       "      <td>0</td>\n",
       "      <td>28972</td>\n",
       "      <td>2.605469</td>\n",
       "      <td>0.300781</td>\n",
       "      <td>3</td>\n",
       "      <td>1</td>\n",
       "      <td>13</td>\n",
       "      <td>78</td>\n",
       "      <td>...</td>\n",
       "      <td>207</td>\n",
       "      <td>E01</td>\n",
       "      <td>865.240234</td>\n",
       "      <td>0.2</td>\n",
       "      <td>0.090909</td>\n",
       "      <td>-0.409091</td>\n",
       "      <td>-0.3</td>\n",
       "      <td>1.0</td>\n",
       "      <td>1.0</td>\n",
       "      <td>0.0</td>\n",
       "    </tr>\n",
       "    <tr>\n",
       "      <th>1522</th>\n",
       "      <td>0</td>\n",
       "      <td>1</td>\n",
       "      <td>0</td>\n",
       "      <td>28974</td>\n",
       "      <td>3.125000</td>\n",
       "      <td>0.294922</td>\n",
       "      <td>5</td>\n",
       "      <td>0</td>\n",
       "      <td>14</td>\n",
       "      <td>80</td>\n",
       "      <td>...</td>\n",
       "      <td>207</td>\n",
       "      <td>E01</td>\n",
       "      <td>865.240234</td>\n",
       "      <td>0.6</td>\n",
       "      <td>0.272727</td>\n",
       "      <td>-0.227273</td>\n",
       "      <td>0.1</td>\n",
       "      <td>1.0</td>\n",
       "      <td>1.0</td>\n",
       "      <td>0.0</td>\n",
       "    </tr>\n",
       "    <tr>\n",
       "      <th>1523</th>\n",
       "      <td>0</td>\n",
       "      <td>1</td>\n",
       "      <td>0</td>\n",
       "      <td>28975</td>\n",
       "      <td>3.478516</td>\n",
       "      <td>0.109375</td>\n",
       "      <td>6</td>\n",
       "      <td>0</td>\n",
       "      <td>10</td>\n",
       "      <td>62</td>\n",
       "      <td>...</td>\n",
       "      <td>207</td>\n",
       "      <td>E01</td>\n",
       "      <td>865.240234</td>\n",
       "      <td>0.8</td>\n",
       "      <td>0.363636</td>\n",
       "      <td>-0.136364</td>\n",
       "      <td>0.3</td>\n",
       "      <td>1.0</td>\n",
       "      <td>1.0</td>\n",
       "      <td>0.0</td>\n",
       "    </tr>\n",
       "    <tr>\n",
       "      <th>1524</th>\n",
       "      <td>0</td>\n",
       "      <td>1</td>\n",
       "      <td>0</td>\n",
       "      <td>28977</td>\n",
       "      <td>3.798828</td>\n",
       "      <td>0.105469</td>\n",
       "      <td>7</td>\n",
       "      <td>0</td>\n",
       "      <td>3</td>\n",
       "      <td>8</td>\n",
       "      <td>...</td>\n",
       "      <td>207</td>\n",
       "      <td>E01</td>\n",
       "      <td>865.240234</td>\n",
       "      <td>1.0</td>\n",
       "      <td>0.454545</td>\n",
       "      <td>-0.045455</td>\n",
       "      <td>0.5</td>\n",
       "      <td>1.0</td>\n",
       "      <td>1.0</td>\n",
       "      <td>0.0</td>\n",
       "    </tr>\n",
       "  </tbody>\n",
       "</table>\n",
       "<p>5 rows × 34 columns</p>\n",
       "</div>"
      ],
      "text/plain": [
       "      refix  pretarget  multifix  urevent    tonset  dur_added  rank  \\\n",
       "1519      0          1         1    28969  1.951172   0.166016     2   \n",
       "1520      0          1         0    28972  2.605469   0.300781     3   \n",
       "1522      0          1         0    28974  3.125000   0.294922     5   \n",
       "1523      0          1         0    28975  3.478516   0.109375     6   \n",
       "1524      0          1         0    28977  3.798828   0.105469     7   \n",
       "\n",
       "      first_rank  stposrel  stposabs  ...  trial_number  trial_subject  \\\n",
       "1519           1         1         1  ...           207            E01   \n",
       "1520           1        13        78  ...           207            E01   \n",
       "1522           0        14        80  ...           207            E01   \n",
       "1523           0        10        62  ...           207            E01   \n",
       "1524           0         3         8  ...           207            E01   \n",
       "\n",
       "      trial_bgn_latency  Nrank  N_subj_rank NC_subj_rank NC_rank   TS  \\\n",
       "1519         865.240234    0.0     0.000000    -0.500000    -0.5  1.0   \n",
       "1520         865.240234    0.2     0.090909    -0.409091    -0.3  1.0   \n",
       "1522         865.240234    0.6     0.272727    -0.227273     0.1  1.0   \n",
       "1523         865.240234    0.8     0.363636    -0.136364     0.3  1.0   \n",
       "1524         865.240234    1.0     0.454545    -0.045455     0.5  1.0   \n",
       "\n",
       "      VSNT_EX isEX  \n",
       "1519      1.0  0.0  \n",
       "1520      1.0  0.0  \n",
       "1522      1.0  0.0  \n",
       "1523      1.0  0.0  \n",
       "1524      1.0  0.0  \n",
       "\n",
       "[5 rows x 34 columns]"
      ]
     },
     "execution_count": 74,
     "metadata": {},
     "output_type": "execute_result"
    }
   ],
   "source": [
    "subj1[subj1['trial_number']==207]"
   ]
  },
  {
   "cell_type": "code",
   "execution_count": 75,
   "id": "f77ab442",
   "metadata": {},
   "outputs": [
    {
     "data": {
      "text/plain": [
       "509"
      ]
     },
     "execution_count": 75,
     "metadata": {},
     "output_type": "execute_result"
    }
   ],
   "source": [
    "len(subj1)"
   ]
  },
  {
   "cell_type": "code",
   "execution_count": 76,
   "id": "9a95b7ff",
   "metadata": {},
   "outputs": [],
   "source": [
    "#dforig = pd.read_csv('/home/juank/Desktop/EJN2022/python/16subj_VSNTpostvsEX_for_unfold_GlobalStandarisedCenteredRank.csv')\n"
   ]
  }
 ],
 "metadata": {
  "kernelspec": {
   "display_name": "Python 3.8.10 64-bit",
   "language": "python",
   "name": "python3"
  },
  "language_info": {
   "codemirror_mode": {
    "name": "ipython",
    "version": 3
   },
   "file_extension": ".py",
   "mimetype": "text/x-python",
   "name": "python",
   "nbconvert_exporter": "python",
   "pygments_lexer": "ipython3",
   "version": "3.8.10"
  },
  "vscode": {
   "interpreter": {
    "hash": "916dbcbb3f70747c44a77c7bcd40155683ae19c65e1c03b4aa3499c5328201f1"
   }
  }
 },
 "nbformat": 4,
 "nbformat_minor": 5
}
