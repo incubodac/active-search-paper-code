{
 "cells": [
  {
   "cell_type": "code",
   "execution_count": 1,
   "id": "designed-traveler",
   "metadata": {},
   "outputs": [],
   "source": [
    "import sys\n",
    "import pandas as pd\n",
    "import os\n",
    "import numpy as np\n",
    "from scipy import stats\n",
    "import re\n",
    "import csv\n",
    "import tabulate\n",
    "import math as m\n",
    "import warnings\n",
    "warnings.filterwarnings('ignore')\n",
    "warnings.simplefilter('ignore')\n",
    "import scipy.io\n",
    "\n",
    "path_data = '/media/cbclab/MARIADAFON1T/Analysis_2020/fixs/'"
   ]
  },
  {
   "cell_type": "code",
   "execution_count": 18,
   "id": "brazilian-milan",
   "metadata": {},
   "outputs": [
    {
     "name": "stdout",
     "output_type": "stream",
     "text": [
      "16subj_hard&easy_for_unfold.csv\n",
      "# fixs 735\n",
      "\n",
      "\n",
      "16subj_hardVSeasy_for_unfold.csv\n",
      "# fixs 527\n",
      "\n",
      "\n",
      "16subj_NTFvsNTO_for_unfold.csv\n",
      "# fixs 8654\n",
      "\n",
      "\n",
      "16subj_NTFvsNTO_postarget_for_unfold.csv\n",
      "# fixs 893\n",
      "\n",
      "\n",
      "16subj_NTFvsNTO_pretarget_for_unfold.csv\n",
      "# fixs 2017\n",
      "\n",
      "\n",
      "16subj_NTOvsNTF_for_unfold.csv\n",
      "# fixs 15356\n",
      "\n",
      "\n",
      "16subj_targetAS_for_unfold.csv\n",
      "# fixs 2773\n",
      "\n",
      "\n",
      "16subj_VSeasy_vs_EXobj_correct_for_unfold.csv\n",
      "# fixs 1818\n",
      "\n",
      "\n",
      "16subj_VShard_vs_EXobj_correct_for_unfold.csv\n",
      "# fixs 1812\n",
      "\n",
      "\n",
      "16subj_VSNTpostvsEX_for_unfold.csv\n",
      "# fixs 9928\n",
      "\n",
      "\n",
      "16subj_VSNTpostvsEX_for_unfold_GlobalStandarisedCenteredRank.csv\n",
      "# fixs 5127\n",
      "\n",
      "\n",
      "16subj_VSNTpostvsEX_for_unfold_GlobalStandarisedRank_.csv\n",
      "# fixs 5127\n",
      "\n",
      "\n",
      "16subj_VSNTpostvsEX_for_unfold_withoutNanStandarisedRank.csv\n",
      "# fixs 5127\n",
      "\n",
      "\n",
      "16subj_VSNTpre_VSNTpost_for_unfold.csv\n",
      "# fixs 8653\n",
      "\n",
      "\n",
      "16subj_VSNTvsEX_correct_for_unfold.csv\n",
      "# fixs 7234\n",
      "\n",
      "\n",
      "16subj_VSNTvsEX_correct_withoutFix1_for_unfold.csv\n",
      "# fixs 5859\n",
      "\n",
      "\n",
      "16subj_VSNTvsEX_for_unfold.csv\n",
      "# fixs 5309\n",
      "\n",
      "\n",
      "16subj_VSNTvsEX_for_unfold_testNANs.csv\n",
      "# fixs 11945\n",
      "\n",
      "\n"
     ]
    }
   ],
   "source": [
    "for x in os.listdir(path_data):\n",
    "    if x.startswith(\"16\"):\n",
    "        print(x)\n",
    "        print('# fixs: ',len(pd.read_csv(path_data+x)))\n",
    "        print('\\n')"
   ]
  },
  {
   "cell_type": "code",
   "execution_count": 4,
   "id": "difficult-introduction",
   "metadata": {},
   "outputs": [],
   "source": [
    "f1 = '16subj_VSNTpostvsEX_for_unfold_GlobalStandarisedCenteredRank.csv'\n",
    "f2 = '16subj_NTFvsNTO_for_unfold.csv'"
   ]
  },
  {
   "cell_type": "code",
   "execution_count": 6,
   "id": "unexpected-castle",
   "metadata": {},
   "outputs": [],
   "source": [
    "df1 = pd.read_csv(path_data+f1)"
   ]
  },
  {
   "cell_type": "code",
   "execution_count": 7,
   "id": "british-camping",
   "metadata": {},
   "outputs": [],
   "source": [
    "df2 = pd.read_csv(path_data+f2)"
   ]
  },
  {
   "cell_type": "code",
   "execution_count": 8,
   "id": "grand-cowboy",
   "metadata": {},
   "outputs": [
    {
     "data": {
      "text/plain": [
       "Index(['refix', 'pretarget', 'multifix', 'urevent', 'tonset', 'dur_added',\n",
       "       'rank', 'first_rank', 'stposrel', 'stposabs', 'n', 'x', 'y', 'istarget',\n",
       "       'isdistractor', 'distractor_cat', 'ditractor_atr', 'trial_targetseen',\n",
       "       'trial_correct', 'trial_cat', 'trial_resp', 'trial_atr', 'trial_type',\n",
       "       'trial_cattype', 'trial_number', 'trial_subject', 'trial_bgn_latency',\n",
       "       'VSNT_EX', 'isEX', 'Nrank', 'N_subj_rank', 'NC_subj_rank', 'NC_rank'],\n",
       "      dtype='object')"
      ]
     },
     "execution_count": 8,
     "metadata": {},
     "output_type": "execute_result"
    }
   ],
   "source": [
    "df1.columns"
   ]
  },
  {
   "cell_type": "code",
   "execution_count": 9,
   "id": "operational-retrieval",
   "metadata": {},
   "outputs": [
    {
     "data": {
      "text/plain": [
       "array(['P', 'A'], dtype=object)"
      ]
     },
     "execution_count": 9,
     "metadata": {},
     "output_type": "execute_result"
    }
   ],
   "source": [
    "df1['trial_resp'].unique()"
   ]
  },
  {
   "cell_type": "code",
   "execution_count": 10,
   "id": "prerequisite-script",
   "metadata": {},
   "outputs": [
    {
     "data": {
      "text/plain": [
       "array(['P'], dtype=object)"
      ]
     },
     "execution_count": 10,
     "metadata": {},
     "output_type": "execute_result"
    }
   ],
   "source": [
    "df1[df1['VSNT_EX']==1]['trial_resp'].unique()"
   ]
  },
  {
   "cell_type": "code",
   "execution_count": 11,
   "id": "regulation-architecture",
   "metadata": {},
   "outputs": [
    {
     "data": {
      "text/plain": [
       "array(['A'], dtype=object)"
      ]
     },
     "execution_count": 11,
     "metadata": {},
     "output_type": "execute_result"
    }
   ],
   "source": [
    "df1[df1['VSNT_EX']==0]['trial_resp'].unique()"
   ]
  },
  {
   "cell_type": "code",
   "execution_count": 12,
   "id": "monthly-reception",
   "metadata": {},
   "outputs": [
    {
     "data": {
      "text/plain": [
       "5127"
      ]
     },
     "execution_count": 12,
     "metadata": {},
     "output_type": "execute_result"
    }
   ],
   "source": [
    "len(df1)"
   ]
  },
  {
   "cell_type": "code",
   "execution_count": 13,
   "id": "scientific-dynamics",
   "metadata": {},
   "outputs": [
    {
     "data": {
      "text/plain": [
       "8654"
      ]
     },
     "execution_count": 13,
     "metadata": {},
     "output_type": "execute_result"
    }
   ],
   "source": [
    "len(df2)"
   ]
  },
  {
   "cell_type": "code",
   "execution_count": 14,
   "id": "ambient-protocol",
   "metadata": {},
   "outputs": [
    {
     "data": {
      "text/plain": [
       "Index(['refix', 'pretarget', 'multifix', 'urevent', 'tonset', 'dur_added',\n",
       "       'rank', 'first_rank', 'stposrel', 'stposabs', 'n', 'x', 'y', 'istarget',\n",
       "       'isdistractor', 'distractor_cat', 'ditractor_atr', 'trial_targetseen',\n",
       "       'trial_correct', 'trial_cat', 'trial_resp', 'trial_atr', 'trial_type',\n",
       "       'trial_cattype', 'trial_number', 'trial_subject', 'trial_bgn_latency',\n",
       "       'NTF_NTO'],\n",
       "      dtype='object')"
      ]
     },
     "execution_count": 14,
     "metadata": {},
     "output_type": "execute_result"
    }
   ],
   "source": [
    "df2.columns"
   ]
  },
  {
   "cell_type": "code",
   "execution_count": 17,
   "id": "demonstrated-television",
   "metadata": {},
   "outputs": [
    {
     "data": {
      "text/plain": [
       "array(['VS'], dtype=object)"
      ]
     },
     "execution_count": 17,
     "metadata": {},
     "output_type": "execute_result"
    }
   ],
   "source": [
    "df2['trial_type'].unique()"
   ]
  },
  {
   "cell_type": "code",
   "execution_count": 15,
   "id": "frozen-action",
   "metadata": {},
   "outputs": [
    {
     "data": {
      "text/plain": [
       "{'NTF_NTO'}"
      ]
     },
     "execution_count": 15,
     "metadata": {},
     "output_type": "execute_result"
    }
   ],
   "source": [
    "set(list(df2.columns))-set(list(df1.columns))"
   ]
  },
  {
   "cell_type": "code",
   "execution_count": 16,
   "id": "unlimited-criterion",
   "metadata": {},
   "outputs": [
    {
     "data": {
      "text/plain": [
       "{'NC_rank', 'NC_subj_rank', 'N_subj_rank', 'Nrank', 'VSNT_EX', 'isEX'}"
      ]
     },
     "execution_count": 16,
     "metadata": {},
     "output_type": "execute_result"
    }
   ],
   "source": [
    "set(list(df1.columns))-set(list(df2.columns))"
   ]
  },
  {
   "cell_type": "code",
   "execution_count": 19,
   "id": "infrared-bristol",
   "metadata": {},
   "outputs": [
    {
     "data": {
      "text/plain": [
       "array([0.        , 0.33333333, 1.        , 0.11111111, 0.44444444,\n",
       "       0.55555556, 0.66666667, 0.77777778, 0.88888889, 0.5       ,\n",
       "       0.22222222, 0.1       , 0.3       , 0.4       , 0.6       ,\n",
       "       0.7       , 0.8       , 0.9       , 0.2       , 0.14285714,\n",
       "       0.28571429, 0.42857143, 0.57142857, 0.71428571, 0.85714286,\n",
       "       0.125     , 0.375     , 0.625     , 0.75      , 0.875     ,\n",
       "       0.25      , 0.09090909, 0.18181818, 0.27272727, 0.36363636,\n",
       "       0.45454545, 0.54545455, 0.63636364, 0.72727273, 0.81818182,\n",
       "       0.90909091, 0.16666667, 0.83333333, 0.08333333, 0.41666667,\n",
       "       0.91666667])"
      ]
     },
     "execution_count": 19,
     "metadata": {},
     "output_type": "execute_result"
    }
   ],
   "source": [
    "df1['Nrank'].unique()"
   ]
  },
  {
   "cell_type": "code",
   "execution_count": 20,
   "id": "amber-wisdom",
   "metadata": {},
   "outputs": [
    {
     "data": {
      "text/plain": [
       "array([ 2.,  3.,  5.,  6.,  7.,  8.,  9., 10., 11.,  4., 12., 13., 14.])"
      ]
     },
     "execution_count": 20,
     "metadata": {},
     "output_type": "execute_result"
    }
   ],
   "source": [
    "df1['rank'].unique()"
   ]
  },
  {
   "cell_type": "code",
   "execution_count": 21,
   "id": "vietnamese-costa",
   "metadata": {},
   "outputs": [
    {
     "data": {
      "text/html": [
       "<div>\n",
       "<style scoped>\n",
       "    .dataframe tbody tr th:only-of-type {\n",
       "        vertical-align: middle;\n",
       "    }\n",
       "\n",
       "    .dataframe tbody tr th {\n",
       "        vertical-align: top;\n",
       "    }\n",
       "\n",
       "    .dataframe thead th {\n",
       "        text-align: right;\n",
       "    }\n",
       "</style>\n",
       "<table border=\"1\" class=\"dataframe\">\n",
       "  <thead>\n",
       "    <tr style=\"text-align: right;\">\n",
       "      <th></th>\n",
       "      <th>refix</th>\n",
       "      <th>pretarget</th>\n",
       "      <th>multifix</th>\n",
       "      <th>urevent</th>\n",
       "      <th>tonset</th>\n",
       "      <th>dur_added</th>\n",
       "      <th>rank</th>\n",
       "      <th>first_rank</th>\n",
       "      <th>stposrel</th>\n",
       "      <th>stposabs</th>\n",
       "      <th>...</th>\n",
       "      <th>trial_cattype</th>\n",
       "      <th>trial_number</th>\n",
       "      <th>trial_subject</th>\n",
       "      <th>trial_bgn_latency</th>\n",
       "      <th>VSNT_EX</th>\n",
       "      <th>isEX</th>\n",
       "      <th>Nrank</th>\n",
       "      <th>N_subj_rank</th>\n",
       "      <th>NC_subj_rank</th>\n",
       "      <th>NC_rank</th>\n",
       "    </tr>\n",
       "  </thead>\n",
       "  <tbody>\n",
       "    <tr>\n",
       "      <th>0</th>\n",
       "      <td>0</td>\n",
       "      <td>1.0</td>\n",
       "      <td>0</td>\n",
       "      <td>23231</td>\n",
       "      <td>1.039062</td>\n",
       "      <td>0.138672</td>\n",
       "      <td>2.0</td>\n",
       "      <td>1.0</td>\n",
       "      <td>8</td>\n",
       "      <td>47</td>\n",
       "      <td>...</td>\n",
       "      <td>O</td>\n",
       "      <td>2</td>\n",
       "      <td>E01</td>\n",
       "      <td>4.400391</td>\n",
       "      <td>1.0</td>\n",
       "      <td>0.0</td>\n",
       "      <td>0.000000</td>\n",
       "      <td>0.000000</td>\n",
       "      <td>-0.500000</td>\n",
       "      <td>-0.500000</td>\n",
       "    </tr>\n",
       "    <tr>\n",
       "      <th>1</th>\n",
       "      <td>0</td>\n",
       "      <td>1.0</td>\n",
       "      <td>1</td>\n",
       "      <td>23232</td>\n",
       "      <td>1.240234</td>\n",
       "      <td>0.119141</td>\n",
       "      <td>3.0</td>\n",
       "      <td>1.0</td>\n",
       "      <td>13</td>\n",
       "      <td>66</td>\n",
       "      <td>...</td>\n",
       "      <td>O</td>\n",
       "      <td>2</td>\n",
       "      <td>E01</td>\n",
       "      <td>4.400391</td>\n",
       "      <td>1.0</td>\n",
       "      <td>0.0</td>\n",
       "      <td>0.333333</td>\n",
       "      <td>0.090909</td>\n",
       "      <td>-0.409091</td>\n",
       "      <td>-0.166667</td>\n",
       "    </tr>\n",
       "    <tr>\n",
       "      <th>2</th>\n",
       "      <td>0</td>\n",
       "      <td>1.0</td>\n",
       "      <td>0</td>\n",
       "      <td>23236</td>\n",
       "      <td>1.978516</td>\n",
       "      <td>0.126953</td>\n",
       "      <td>5.0</td>\n",
       "      <td>0.0</td>\n",
       "      <td>6</td>\n",
       "      <td>42</td>\n",
       "      <td>...</td>\n",
       "      <td>O</td>\n",
       "      <td>2</td>\n",
       "      <td>E01</td>\n",
       "      <td>4.400391</td>\n",
       "      <td>1.0</td>\n",
       "      <td>0.0</td>\n",
       "      <td>1.000000</td>\n",
       "      <td>0.272727</td>\n",
       "      <td>-0.227273</td>\n",
       "      <td>0.500000</td>\n",
       "    </tr>\n",
       "    <tr>\n",
       "      <th>3</th>\n",
       "      <td>0</td>\n",
       "      <td>0.0</td>\n",
       "      <td>0</td>\n",
       "      <td>23249</td>\n",
       "      <td>0.808594</td>\n",
       "      <td>0.271484</td>\n",
       "      <td>2.0</td>\n",
       "      <td>1.0</td>\n",
       "      <td>3</td>\n",
       "      <td>10</td>\n",
       "      <td>...</td>\n",
       "      <td>F</td>\n",
       "      <td>3</td>\n",
       "      <td>E01</td>\n",
       "      <td>8.599609</td>\n",
       "      <td>0.0</td>\n",
       "      <td>1.0</td>\n",
       "      <td>0.000000</td>\n",
       "      <td>0.000000</td>\n",
       "      <td>-0.500000</td>\n",
       "      <td>-0.500000</td>\n",
       "    </tr>\n",
       "    <tr>\n",
       "      <th>4</th>\n",
       "      <td>0</td>\n",
       "      <td>0.0</td>\n",
       "      <td>0</td>\n",
       "      <td>23250</td>\n",
       "      <td>1.142578</td>\n",
       "      <td>0.220703</td>\n",
       "      <td>3.0</td>\n",
       "      <td>1.0</td>\n",
       "      <td>7</td>\n",
       "      <td>28</td>\n",
       "      <td>...</td>\n",
       "      <td>F</td>\n",
       "      <td>3</td>\n",
       "      <td>E01</td>\n",
       "      <td>8.599609</td>\n",
       "      <td>0.0</td>\n",
       "      <td>1.0</td>\n",
       "      <td>0.111111</td>\n",
       "      <td>0.090909</td>\n",
       "      <td>-0.409091</td>\n",
       "      <td>-0.388889</td>\n",
       "    </tr>\n",
       "    <tr>\n",
       "      <th>...</th>\n",
       "      <td>...</td>\n",
       "      <td>...</td>\n",
       "      <td>...</td>\n",
       "      <td>...</td>\n",
       "      <td>...</td>\n",
       "      <td>...</td>\n",
       "      <td>...</td>\n",
       "      <td>...</td>\n",
       "      <td>...</td>\n",
       "      <td>...</td>\n",
       "      <td>...</td>\n",
       "      <td>...</td>\n",
       "      <td>...</td>\n",
       "      <td>...</td>\n",
       "      <td>...</td>\n",
       "      <td>...</td>\n",
       "      <td>...</td>\n",
       "      <td>...</td>\n",
       "      <td>...</td>\n",
       "      <td>...</td>\n",
       "      <td>...</td>\n",
       "    </tr>\n",
       "    <tr>\n",
       "      <th>476</th>\n",
       "      <td>0</td>\n",
       "      <td>0.0</td>\n",
       "      <td>0</td>\n",
       "      <td>29116</td>\n",
       "      <td>1.298828</td>\n",
       "      <td>0.140625</td>\n",
       "      <td>3.0</td>\n",
       "      <td>1.0</td>\n",
       "      <td>12</td>\n",
       "      <td>65</td>\n",
       "      <td>...</td>\n",
       "      <td>O</td>\n",
       "      <td>213</td>\n",
       "      <td>E01</td>\n",
       "      <td>890.435547</td>\n",
       "      <td>0.0</td>\n",
       "      <td>1.0</td>\n",
       "      <td>0.200000</td>\n",
       "      <td>0.090909</td>\n",
       "      <td>-0.409091</td>\n",
       "      <td>-0.300000</td>\n",
       "    </tr>\n",
       "    <tr>\n",
       "      <th>477</th>\n",
       "      <td>0</td>\n",
       "      <td>0.0</td>\n",
       "      <td>0</td>\n",
       "      <td>29117</td>\n",
       "      <td>1.494141</td>\n",
       "      <td>0.238281</td>\n",
       "      <td>4.0</td>\n",
       "      <td>1.0</td>\n",
       "      <td>8</td>\n",
       "      <td>39</td>\n",
       "      <td>...</td>\n",
       "      <td>O</td>\n",
       "      <td>213</td>\n",
       "      <td>E01</td>\n",
       "      <td>890.435547</td>\n",
       "      <td>0.0</td>\n",
       "      <td>1.0</td>\n",
       "      <td>0.400000</td>\n",
       "      <td>0.181818</td>\n",
       "      <td>-0.318182</td>\n",
       "      <td>-0.100000</td>\n",
       "    </tr>\n",
       "    <tr>\n",
       "      <th>478</th>\n",
       "      <td>0</td>\n",
       "      <td>0.0</td>\n",
       "      <td>0</td>\n",
       "      <td>29118</td>\n",
       "      <td>1.763672</td>\n",
       "      <td>0.199219</td>\n",
       "      <td>5.0</td>\n",
       "      <td>0.0</td>\n",
       "      <td>10</td>\n",
       "      <td>48</td>\n",
       "      <td>...</td>\n",
       "      <td>O</td>\n",
       "      <td>213</td>\n",
       "      <td>E01</td>\n",
       "      <td>890.435547</td>\n",
       "      <td>0.0</td>\n",
       "      <td>1.0</td>\n",
       "      <td>0.600000</td>\n",
       "      <td>0.272727</td>\n",
       "      <td>-0.227273</td>\n",
       "      <td>0.100000</td>\n",
       "    </tr>\n",
       "    <tr>\n",
       "      <th>479</th>\n",
       "      <td>0</td>\n",
       "      <td>0.0</td>\n",
       "      <td>0</td>\n",
       "      <td>29119</td>\n",
       "      <td>2.058594</td>\n",
       "      <td>0.308594</td>\n",
       "      <td>6.0</td>\n",
       "      <td>0.0</td>\n",
       "      <td>13</td>\n",
       "      <td>69</td>\n",
       "      <td>...</td>\n",
       "      <td>O</td>\n",
       "      <td>213</td>\n",
       "      <td>E01</td>\n",
       "      <td>890.435547</td>\n",
       "      <td>0.0</td>\n",
       "      <td>1.0</td>\n",
       "      <td>0.800000</td>\n",
       "      <td>0.363636</td>\n",
       "      <td>-0.136364</td>\n",
       "      <td>0.300000</td>\n",
       "    </tr>\n",
       "    <tr>\n",
       "      <th>480</th>\n",
       "      <td>0</td>\n",
       "      <td>0.0</td>\n",
       "      <td>1</td>\n",
       "      <td>29121</td>\n",
       "      <td>2.763672</td>\n",
       "      <td>0.232422</td>\n",
       "      <td>7.0</td>\n",
       "      <td>0.0</td>\n",
       "      <td>5</td>\n",
       "      <td>27</td>\n",
       "      <td>...</td>\n",
       "      <td>O</td>\n",
       "      <td>213</td>\n",
       "      <td>E01</td>\n",
       "      <td>890.435547</td>\n",
       "      <td>0.0</td>\n",
       "      <td>1.0</td>\n",
       "      <td>1.000000</td>\n",
       "      <td>0.454545</td>\n",
       "      <td>-0.045455</td>\n",
       "      <td>0.500000</td>\n",
       "    </tr>\n",
       "  </tbody>\n",
       "</table>\n",
       "<p>481 rows × 33 columns</p>\n",
       "</div>"
      ],
      "text/plain": [
       "     refix  pretarget  multifix  urevent    tonset  dur_added  rank  \\\n",
       "0        0        1.0         0    23231  1.039062   0.138672   2.0   \n",
       "1        0        1.0         1    23232  1.240234   0.119141   3.0   \n",
       "2        0        1.0         0    23236  1.978516   0.126953   5.0   \n",
       "3        0        0.0         0    23249  0.808594   0.271484   2.0   \n",
       "4        0        0.0         0    23250  1.142578   0.220703   3.0   \n",
       "..     ...        ...       ...      ...       ...        ...   ...   \n",
       "476      0        0.0         0    29116  1.298828   0.140625   3.0   \n",
       "477      0        0.0         0    29117  1.494141   0.238281   4.0   \n",
       "478      0        0.0         0    29118  1.763672   0.199219   5.0   \n",
       "479      0        0.0         0    29119  2.058594   0.308594   6.0   \n",
       "480      0        0.0         1    29121  2.763672   0.232422   7.0   \n",
       "\n",
       "     first_rank  stposrel  stposabs  ...  trial_cattype  trial_number  \\\n",
       "0           1.0         8        47  ...              O             2   \n",
       "1           1.0        13        66  ...              O             2   \n",
       "2           0.0         6        42  ...              O             2   \n",
       "3           1.0         3        10  ...              F             3   \n",
       "4           1.0         7        28  ...              F             3   \n",
       "..          ...       ...       ...  ...            ...           ...   \n",
       "476         1.0        12        65  ...              O           213   \n",
       "477         1.0         8        39  ...              O           213   \n",
       "478         0.0        10        48  ...              O           213   \n",
       "479         0.0        13        69  ...              O           213   \n",
       "480         0.0         5        27  ...              O           213   \n",
       "\n",
       "     trial_subject  trial_bgn_latency  VSNT_EX isEX     Nrank  N_subj_rank  \\\n",
       "0              E01           4.400391      1.0  0.0  0.000000     0.000000   \n",
       "1              E01           4.400391      1.0  0.0  0.333333     0.090909   \n",
       "2              E01           4.400391      1.0  0.0  1.000000     0.272727   \n",
       "3              E01           8.599609      0.0  1.0  0.000000     0.000000   \n",
       "4              E01           8.599609      0.0  1.0  0.111111     0.090909   \n",
       "..             ...                ...      ...  ...       ...          ...   \n",
       "476            E01         890.435547      0.0  1.0  0.200000     0.090909   \n",
       "477            E01         890.435547      0.0  1.0  0.400000     0.181818   \n",
       "478            E01         890.435547      0.0  1.0  0.600000     0.272727   \n",
       "479            E01         890.435547      0.0  1.0  0.800000     0.363636   \n",
       "480            E01         890.435547      0.0  1.0  1.000000     0.454545   \n",
       "\n",
       "     NC_subj_rank   NC_rank  \n",
       "0       -0.500000 -0.500000  \n",
       "1       -0.409091 -0.166667  \n",
       "2       -0.227273  0.500000  \n",
       "3       -0.500000 -0.500000  \n",
       "4       -0.409091 -0.388889  \n",
       "..            ...       ...  \n",
       "476     -0.409091 -0.300000  \n",
       "477     -0.318182 -0.100000  \n",
       "478     -0.227273  0.100000  \n",
       "479     -0.136364  0.300000  \n",
       "480     -0.045455  0.500000  \n",
       "\n",
       "[481 rows x 33 columns]"
      ]
     },
     "execution_count": 21,
     "metadata": {},
     "output_type": "execute_result"
    }
   ],
   "source": [
    "df1[(df1['trial_subject']=='E01')]"
   ]
  },
  {
   "cell_type": "code",
   "execution_count": 22,
   "id": "upset-editor",
   "metadata": {},
   "outputs": [
    {
     "data": {
      "text/plain": [
       "array([  2,   3,   4,   5,   9,  11,  13,  15,  16,  18,  21,  22,  25,\n",
       "        28,  29,  37,  38,  40,  44,  45,  47,  49,  51,  56,  63,  64,\n",
       "        66,  67,  71,  76,  78,  79,  81,  84,  85,  87,  88,  94,  96,\n",
       "        98,  99, 101, 102, 103, 104, 112, 116, 118, 119, 120, 121, 122,\n",
       "       127, 128, 133, 136, 139, 141, 147, 148, 149, 151, 152, 153, 154,\n",
       "       155, 156, 161, 162, 163, 168, 169, 170, 171, 173, 178, 180, 181,\n",
       "       184, 186, 187, 188, 189, 191, 192, 193, 197, 199, 200, 201, 203,\n",
       "       209, 213])"
      ]
     },
     "execution_count": 22,
     "metadata": {},
     "output_type": "execute_result"
    }
   ],
   "source": [
    "df1[(df1['trial_subject']=='E01')]['trial_number'].unique()"
   ]
  },
  {
   "cell_type": "code",
   "execution_count": 23,
   "id": "failing-james",
   "metadata": {},
   "outputs": [
    {
     "data": {
      "text/plain": [
       "93"
      ]
     },
     "execution_count": 23,
     "metadata": {},
     "output_type": "execute_result"
    }
   ],
   "source": [
    "len(df1[(df1['trial_subject']=='E01')]['trial_number'].unique())"
   ]
  },
  {
   "cell_type": "code",
   "execution_count": 24,
   "id": "incorrect-doubt",
   "metadata": {},
   "outputs": [
    {
     "data": {
      "text/plain": [
       "Index(['refix', 'pretarget', 'multifix', 'urevent', 'tonset', 'dur_added',\n",
       "       'rank', 'first_rank', 'stposrel', 'stposabs', 'n', 'x', 'y', 'istarget',\n",
       "       'isdistractor', 'distractor_cat', 'ditractor_atr', 'trial_targetseen',\n",
       "       'trial_correct', 'trial_cat', 'trial_resp', 'trial_atr', 'trial_type',\n",
       "       'trial_cattype', 'trial_number', 'trial_subject', 'trial_bgn_latency',\n",
       "       'VSNT_EX', 'isEX', 'Nrank', 'N_subj_rank', 'NC_subj_rank', 'NC_rank'],\n",
       "      dtype='object')"
      ]
     },
     "execution_count": 24,
     "metadata": {},
     "output_type": "execute_result"
    }
   ],
   "source": [
    "df1.columns"
   ]
  },
  {
   "cell_type": "code",
   "execution_count": 25,
   "id": "sublime-sweet",
   "metadata": {},
   "outputs": [],
   "source": [
    "subj1 = df1[(df1['trial_subject']=='E01')]"
   ]
  },
  {
   "cell_type": "code",
   "execution_count": 26,
   "id": "cheap-politics",
   "metadata": {},
   "outputs": [
    {
     "data": {
      "text/plain": [
       "array([0, 1])"
      ]
     },
     "execution_count": 26,
     "metadata": {},
     "output_type": "execute_result"
    }
   ],
   "source": [
    "subj1['refix'].unique()"
   ]
  },
  {
   "cell_type": "code",
   "execution_count": 27,
   "id": "pleased-honolulu",
   "metadata": {},
   "outputs": [
    {
     "data": {
      "text/plain": [
       "array([1., 0.])"
      ]
     },
     "execution_count": 27,
     "metadata": {},
     "output_type": "execute_result"
    }
   ],
   "source": [
    "subj1['pretarget'].unique()"
   ]
  },
  {
   "cell_type": "code",
   "execution_count": 28,
   "id": "accessible-correction",
   "metadata": {},
   "outputs": [
    {
     "data": {
      "text/plain": [
       "array([1.])"
      ]
     },
     "execution_count": 28,
     "metadata": {},
     "output_type": "execute_result"
    }
   ],
   "source": [
    "subj1[subj1['pretarget']==0]['isEX'].unique()"
   ]
  },
  {
   "cell_type": "code",
   "execution_count": 29,
   "id": "passive-triumph",
   "metadata": {},
   "outputs": [
    {
     "data": {
      "text/plain": [
       "array([0.])"
      ]
     },
     "execution_count": 29,
     "metadata": {},
     "output_type": "execute_result"
    }
   ],
   "source": [
    "subj1[subj1['isEX']==1]['pretarget'].unique()"
   ]
  },
  {
   "cell_type": "code",
   "execution_count": 30,
   "id": "specified-canal",
   "metadata": {},
   "outputs": [
    {
     "data": {
      "text/plain": [
       "array([0.])"
      ]
     },
     "execution_count": 30,
     "metadata": {},
     "output_type": "execute_result"
    }
   ],
   "source": [
    "df1[df1['trial_type']=='EX']['pretarget'].unique()"
   ]
  },
  {
   "cell_type": "code",
   "execution_count": 31,
   "id": "automatic-nylon",
   "metadata": {},
   "outputs": [
    {
     "data": {
      "text/plain": [
       "array([0, 1])"
      ]
     },
     "execution_count": 31,
     "metadata": {},
     "output_type": "execute_result"
    }
   ],
   "source": [
    "subj1['multifix'].unique()"
   ]
  },
  {
   "cell_type": "code",
   "execution_count": 32,
   "id": "dangerous-cornwall",
   "metadata": {},
   "outputs": [
    {
     "data": {
      "text/plain": [
       "0.1015625"
      ]
     },
     "execution_count": 32,
     "metadata": {},
     "output_type": "execute_result"
    }
   ],
   "source": [
    "subj1['dur_added'].min()"
   ]
  },
  {
   "cell_type": "code",
   "execution_count": 33,
   "id": "marine-stream",
   "metadata": {},
   "outputs": [
    {
     "data": {
      "text/plain": [
       "0.56640625"
      ]
     },
     "execution_count": 33,
     "metadata": {},
     "output_type": "execute_result"
    }
   ],
   "source": [
    "subj1['dur_added'].max()"
   ]
  },
  {
   "cell_type": "code",
   "execution_count": 34,
   "id": "relative-riding",
   "metadata": {},
   "outputs": [
    {
     "data": {
      "text/plain": [
       "12"
      ]
     },
     "execution_count": 34,
     "metadata": {},
     "output_type": "execute_result"
    }
   ],
   "source": [
    "len(subj1['rank'].unique())"
   ]
  },
  {
   "cell_type": "code",
   "execution_count": 35,
   "id": "noble-sword",
   "metadata": {},
   "outputs": [
    {
     "data": {
      "text/plain": [
       "481"
      ]
     },
     "execution_count": 35,
     "metadata": {},
     "output_type": "execute_result"
    }
   ],
   "source": [
    "len(subj1)"
   ]
  },
  {
   "cell_type": "code",
   "execution_count": 36,
   "id": "noted-russell",
   "metadata": {},
   "outputs": [
    {
     "data": {
      "text/plain": [
       "array([1., 0.])"
      ]
     },
     "execution_count": 36,
     "metadata": {},
     "output_type": "execute_result"
    }
   ],
   "source": [
    "subj1['first_rank'].unique()"
   ]
  },
  {
   "cell_type": "code",
   "execution_count": 37,
   "id": "embedded-extra",
   "metadata": {},
   "outputs": [
    {
     "data": {
      "text/plain": [
       "array([0])"
      ]
     },
     "execution_count": 37,
     "metadata": {},
     "output_type": "execute_result"
    }
   ],
   "source": [
    "subj1['istarget'].unique()"
   ]
  },
  {
   "cell_type": "code",
   "execution_count": 38,
   "id": "alien-source",
   "metadata": {},
   "outputs": [
    {
     "data": {
      "text/plain": [
       "array([1])"
      ]
     },
     "execution_count": 38,
     "metadata": {},
     "output_type": "execute_result"
    }
   ],
   "source": [
    "subj1['isdistractor'].unique()"
   ]
  },
  {
   "cell_type": "code",
   "execution_count": 39,
   "id": "headed-alcohol",
   "metadata": {},
   "outputs": [
    {
     "data": {
      "text/plain": [
       "array(['faces', 'objects'], dtype=object)"
      ]
     },
     "execution_count": 39,
     "metadata": {},
     "output_type": "execute_result"
    }
   ],
   "source": [
    "subj1['distractor_cat'].unique()"
   ]
  },
  {
   "cell_type": "code",
   "execution_count": 40,
   "id": "interesting-agreement",
   "metadata": {},
   "outputs": [
    {
     "data": {
      "text/plain": [
       "array(['male', 'small', 'female', 'big'], dtype=object)"
      ]
     },
     "execution_count": 40,
     "metadata": {},
     "output_type": "execute_result"
    }
   ],
   "source": [
    "subj1['ditractor_atr'].unique()"
   ]
  },
  {
   "cell_type": "code",
   "execution_count": 41,
   "id": "burning-spanking",
   "metadata": {},
   "outputs": [
    {
     "data": {
      "text/plain": [
       "array([1, 0])"
      ]
     },
     "execution_count": 41,
     "metadata": {},
     "output_type": "execute_result"
    }
   ],
   "source": [
    "subj1['trial_targetseen'].unique()"
   ]
  },
  {
   "cell_type": "code",
   "execution_count": 42,
   "id": "collectible-friendly",
   "metadata": {},
   "outputs": [
    {
     "data": {
      "text/plain": [
       "array([1])"
      ]
     },
     "execution_count": 42,
     "metadata": {},
     "output_type": "execute_result"
    }
   ],
   "source": [
    "subj1[subj1['VSNT_EX']==1]['trial_targetseen'].unique()"
   ]
  },
  {
   "cell_type": "code",
   "execution_count": 43,
   "id": "wrapped-cassette",
   "metadata": {},
   "outputs": [
    {
     "data": {
      "text/plain": [
       "array([1])"
      ]
     },
     "execution_count": 43,
     "metadata": {},
     "output_type": "execute_result"
    }
   ],
   "source": [
    "subj1['trial_correct'].unique()"
   ]
  },
  {
   "cell_type": "code",
   "execution_count": 44,
   "id": "auburn-jewelry",
   "metadata": {},
   "outputs": [
    {
     "data": {
      "text/plain": [
       "array(['objects', 'faces'], dtype=object)"
      ]
     },
     "execution_count": 44,
     "metadata": {},
     "output_type": "execute_result"
    }
   ],
   "source": [
    "subj1['trial_cat'].unique()"
   ]
  },
  {
   "cell_type": "code",
   "execution_count": 45,
   "id": "innocent-enemy",
   "metadata": {},
   "outputs": [
    {
     "data": {
      "text/plain": [
       "array(['P'], dtype=object)"
      ]
     },
     "execution_count": 45,
     "metadata": {},
     "output_type": "execute_result"
    }
   ],
   "source": [
    "subj1[subj1['VSNT_EX']==1]['trial_resp'].unique()"
   ]
  },
  {
   "cell_type": "code",
   "execution_count": 46,
   "id": "reserved-professional",
   "metadata": {},
   "outputs": [
    {
     "data": {
      "text/plain": [
       "array(['big', 'female', 'small', 'male'], dtype=object)"
      ]
     },
     "execution_count": 46,
     "metadata": {},
     "output_type": "execute_result"
    }
   ],
   "source": [
    "subj1['trial_atr'].unique()"
   ]
  },
  {
   "cell_type": "code",
   "execution_count": 47,
   "id": "clear-trigger",
   "metadata": {},
   "outputs": [
    {
     "data": {
      "text/plain": [
       "array(['VS'], dtype=object)"
      ]
     },
     "execution_count": 47,
     "metadata": {},
     "output_type": "execute_result"
    }
   ],
   "source": [
    "subj1[subj1['VSNT_EX']==1]['trial_type'].unique()"
   ]
  },
  {
   "cell_type": "code",
   "execution_count": 48,
   "id": "thorough-constitutional",
   "metadata": {},
   "outputs": [
    {
     "data": {
      "text/plain": [
       "array(['O', 'F', 'I'], dtype=object)"
      ]
     },
     "execution_count": 48,
     "metadata": {},
     "output_type": "execute_result"
    }
   ],
   "source": [
    "subj1['trial_cattype'].unique()"
   ]
  },
  {
   "cell_type": "code",
   "execution_count": 49,
   "id": "cellular-indie",
   "metadata": {},
   "outputs": [
    {
     "data": {
      "text/plain": [
       "93"
      ]
     },
     "execution_count": 49,
     "metadata": {},
     "output_type": "execute_result"
    }
   ],
   "source": [
    "len(subj1['trial_number'].unique())"
   ]
  },
  {
   "cell_type": "code",
   "execution_count": 50,
   "id": "equivalent-collins",
   "metadata": {},
   "outputs": [
    {
     "data": {
      "text/plain": [
       "array([  2,   3,   4,   5,   9,  11,  13,  15,  16,  18,  21,  22,  25,\n",
       "        28,  29,  37,  38,  40,  44,  45,  47,  49,  51,  56,  63,  64,\n",
       "        66,  67,  71,  76,  78,  79,  81,  84,  85,  87,  88,  94,  96,\n",
       "        98,  99, 101, 102, 103, 104, 112, 116, 118, 119, 120, 121, 122,\n",
       "       127, 128, 133, 136, 139, 141, 147, 148, 149, 151, 152, 153, 154,\n",
       "       155, 156, 161, 162, 163, 168, 169, 170, 171, 173, 178, 180, 181,\n",
       "       184, 186, 187, 188, 189, 191, 192, 193, 197, 199, 200, 201, 203,\n",
       "       209, 213])"
      ]
     },
     "execution_count": 50,
     "metadata": {},
     "output_type": "execute_result"
    }
   ],
   "source": [
    "subj1['trial_number'].unique()"
   ]
  },
  {
   "cell_type": "code",
   "execution_count": 51,
   "id": "expected-planner",
   "metadata": {},
   "outputs": [
    {
     "data": {
      "text/plain": [
       "{23, 52, 54, 55, 80, 86, 190, 202, 207}"
      ]
     },
     "execution_count": 51,
     "metadata": {},
     "output_type": "execute_result"
    }
   ],
   "source": [
    "set([  2,   3,   4,   5,   9,  11,  13,  15,  16,  18,  21,  22,  23,\n",
    "        25,  28,  29,  37,  38,  40,  44,  45,  47,  49,  51,  52,  54,\n",
    "        55,  56,  63,  64,  66,  67,  71,  76,  78,  79,  80,  81,  84,\n",
    "        85,  86,  87,  88,  94,  96,  98,  99, 101, 102, 103, 104, 112,\n",
    "       116, 118, 119, 120, 121, 122, 127, 128, 133, 136, 139, 141, 147,\n",
    "       148, 149, 151, 152, 153, 154, 155, 156, 161, 162, 163, 168, 169,\n",
    "       170, 171, 173, 178, 180, 181, 184, 186, 187, 188, 189, 190, 191,\n",
    "       192, 193, 197, 199, 200, 201, 202, 203, 207, 209, 213])-set(list(subj1['trial_number'].unique()))"
   ]
  },
  {
   "cell_type": "code",
   "execution_count": 52,
   "id": "genuine-vertex",
   "metadata": {},
   "outputs": [
    {
     "data": {
      "text/plain": [
       "array([0.        , 0.33333333, 1.        , 0.11111111, 0.44444444,\n",
       "       0.55555556, 0.66666667, 0.77777778, 0.88888889, 0.5       ,\n",
       "       0.22222222, 0.1       , 0.3       , 0.4       , 0.6       ,\n",
       "       0.7       , 0.8       , 0.9       , 0.2       , 0.14285714,\n",
       "       0.28571429, 0.42857143, 0.57142857, 0.71428571, 0.85714286,\n",
       "       0.125     , 0.375     , 0.625     , 0.75      , 0.875     ,\n",
       "       0.25      , 0.09090909, 0.18181818, 0.27272727, 0.36363636,\n",
       "       0.45454545, 0.54545455, 0.63636364, 0.72727273, 0.81818182,\n",
       "       0.90909091, 0.16666667, 0.83333333])"
      ]
     },
     "execution_count": 52,
     "metadata": {},
     "output_type": "execute_result"
    }
   ],
   "source": [
    "subj1['Nrank'].unique()"
   ]
  },
  {
   "cell_type": "code",
   "execution_count": 53,
   "id": "union-armstrong",
   "metadata": {},
   "outputs": [
    {
     "data": {
      "text/plain": [
       "trial_subject  trial_number\n",
       "E01            2                3\n",
       "               3                9\n",
       "               4                3\n",
       "               5               10\n",
       "               9               10\n",
       "                               ..\n",
       "J12            193             10\n",
       "               194              4\n",
       "               202              3\n",
       "               208              4\n",
       "               213              7\n",
       "Length: 1049, dtype: int64"
      ]
     },
     "execution_count": 53,
     "metadata": {},
     "output_type": "execute_result"
    }
   ],
   "source": [
    "df1.groupby(['trial_subject', 'trial_number']).size()"
   ]
  },
  {
   "cell_type": "code",
   "execution_count": null,
   "id": "catholic-given",
   "metadata": {},
   "outputs": [],
   "source": []
  }
 ],
 "metadata": {
  "kernelspec": {
   "display_name": "Python 3",
   "language": "python",
   "name": "python3"
  },
  "language_info": {
   "codemirror_mode": {
    "name": "ipython",
    "version": 3
   },
   "file_extension": ".py",
   "mimetype": "text/x-python",
   "name": "python",
   "nbconvert_exporter": "python",
   "pygments_lexer": "ipython3",
   "version": "3.8.5"
  }
 },
 "nbformat": 4,
 "nbformat_minor": 5
}
